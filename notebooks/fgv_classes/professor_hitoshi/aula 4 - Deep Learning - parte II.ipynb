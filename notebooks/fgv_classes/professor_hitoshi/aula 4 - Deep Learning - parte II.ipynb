{
 "cells": [
  {
   "cell_type": "markdown",
   "metadata": {},
   "source": [
    "![alt text](FGV_logo.png)\n",
    "\n",
    "# Deep Learning\n",
    "\n",
    "Vamos utilizar o tutorial do TensorFlow: [MNIST For ML Beginners](https://www.tensorflow.org/get_started/mnist/beginners)<br>\n",
    "com algumas modificações\n"
   ]
  },
  {
   "cell_type": "code",
   "execution_count": 1,
   "metadata": {},
   "outputs": [],
   "source": [
    "# interatividade\n",
    "from ipywidgets import interact, interactive, fixed, interact_manual, FloatSlider, IntSlider\n",
    "import ipywidgets as widgets\n",
    "\n",
    "# graficos\n",
    "import seaborn as sns\n",
    "%matplotlib inline\n",
    "sns.set_context('paper')\n",
    "\n",
    "# outros\n",
    "from IPython.display import Image"
   ]
  },
  {
   "cell_type": "markdown",
   "metadata": {},
   "source": [
    "#### baixando dataset"
   ]
  },
  {
   "cell_type": "code",
   "execution_count": 2,
   "metadata": {},
   "outputs": [
    {
     "name": "stdout",
     "output_type": "stream",
     "text": [
      "Extracting MNIST_data/train-images-idx3-ubyte.gz\n",
      "Extracting MNIST_data/train-labels-idx1-ubyte.gz\n",
      "Extracting MNIST_data/t10k-images-idx3-ubyte.gz\n",
      "Extracting MNIST_data/t10k-labels-idx1-ubyte.gz\n"
     ]
    }
   ],
   "source": [
    "from tensorflow.examples.tutorials.mnist import input_data\n",
    "mnist = input_data.read_data_sets(\"MNIST_data/\", one_hot=True)"
   ]
  },
  {
   "cell_type": "code",
   "execution_count": 3,
   "metadata": {},
   "outputs": [
    {
     "name": "stdout",
     "output_type": "stream",
     "text": [
      "(55000, 784)\n",
      "(10000, 784)\n",
      "(5000, 784)\n"
     ]
    }
   ],
   "source": [
    "# Qual o formato das imagens em cada dataset?\n",
    "\n",
    "print(mnist.train.images.shape)\n",
    "print(mnist.test.images.shape)\n",
    "print(mnist.validation.images.shape)"
   ]
  },
  {
   "cell_type": "code",
   "execution_count": 4,
   "metadata": {},
   "outputs": [
    {
     "data": {
      "text/html": [
       "<img src=\"https://www.tensorflow.org/images/mnist-train-xs.png\" width=\"500\"/>"
      ],
      "text/plain": [
       "<IPython.core.display.Image object>"
      ]
     },
     "execution_count": 4,
     "metadata": {},
     "output_type": "execute_result"
    }
   ],
   "source": [
    "Image(url='https://www.tensorflow.org/images/mnist-train-xs.png', width=500)"
   ]
  },
  {
   "cell_type": "code",
   "execution_count": 5,
   "metadata": {},
   "outputs": [
    {
     "name": "stdout",
     "output_type": "stream",
     "text": [
      "(55000, 10)\n"
     ]
    }
   ],
   "source": [
    "# qual é o formato dos labels?\n",
    "\n",
    "print(mnist.train.labels.shape)"
   ]
  },
  {
   "cell_type": "code",
   "execution_count": 6,
   "metadata": {},
   "outputs": [
    {
     "data": {
      "text/html": [
       "<img src=\"https://www.tensorflow.org/images/mnist-train-ys.png\" width=\"500\"/>"
      ],
      "text/plain": [
       "<IPython.core.display.Image object>"
      ]
     },
     "execution_count": 6,
     "metadata": {},
     "output_type": "execute_result"
    }
   ],
   "source": [
    "Image(url='https://www.tensorflow.org/images/mnist-train-ys.png', width=500)"
   ]
  },
  {
   "cell_type": "code",
   "execution_count": 7,
   "metadata": {},
   "outputs": [
    {
     "name": "stdout",
     "output_type": "stream",
     "text": [
      "amostra = 32058\n",
      "label = 1\n"
     ]
    },
    {
     "data": {
      "image/png": "[encoded data removed]",
      "text/plain": [
       "<matplotlib.figure.Figure at 0x120fc35c0>"
      ]
     },
     "metadata": {},
     "output_type": "display_data"
    }
   ],
   "source": [
    "# checando algumas amostras\n",
    "\n",
    "def f(x, dataset):\n",
    "    if dataset == 'treino':\n",
    "        d = mnist.train\n",
    "    elif dataset == 'teste':\n",
    "        d = mnist.test\n",
    "    elif dataset == 'validacao':\n",
    "        d = mnist.validation\n",
    "    if x is '': \n",
    "        sns.heatmap(np.zeros((28,28)), cmap = 'gray_r', vmin = 0, vmax = 1)\n",
    "    else:\n",
    "        amostra = int(x)\n",
    "        print('amostra =', x)\n",
    "        print('label =', d.labels[amostra].argmax())\n",
    "        sns.heatmap(d.images[amostra].reshape(28,28), cmap = 'gray_r', vmin = 0, vmax = 1)\n",
    "\n",
    "interact(f, dataset = ['treino', 'validacao', 'teste'], \n",
    "         x = IntSlider(min = 0, max = len(mnist.train.images) - 1, step = 1, continuous_update = False), );"
   ]
  },
  {
   "cell_type": "markdown",
   "metadata": {},
   "source": [
    "#### questões a resolver:\n",
    "* como formatar os dados para inserir no modelo?\n",
    "* como o modelo irá processar os dados?\n",
    "* como o modelo irá \"aprender\" os dados?"
   ]
  },
  {
   "cell_type": "code",
   "execution_count": 8,
   "metadata": {},
   "outputs": [],
   "source": [
    "# ', '.join(['W_{' + str(i) + ',' + str(j) + '}' for i in range(1,4) for j in range(1,4)])"
   ]
  },
  {
   "cell_type": "markdown",
   "metadata": {},
   "source": [
    "##### Modelo: regressão logistica multinomial\n",
    "\n",
    "De uma maneira similar a regressão logistica, o objetivo será obter os melhores pesos:\n",
    "\n",
    "$$ W_{1,1}, W_{1,2}, W_{1,3}, W_{2,1}, W_{2,2}, W_{2,3}, W_{3,1}, W_{3,2}, W_{3,3} $$\n",
    "\n",
    "\n",
    "<br>\n",
    "E sendo conveniente colocar esses valores em forma matricial:<br>\n",
    "\n",
    "\\begin{equation*}\n",
    "\\mathbf{W} =  \\begin{bmatrix}\n",
    "W_{1,1}, W_{1,2}, W_{1,3} \\\\\n",
    "W_{2,1}, W_{2,2}, W_{2,3} \\\\\n",
    "W_{3,1}, W_{3,2}, W_{3,3} \\\\\n",
    "\\end{bmatrix}\n",
    "\\end{equation*}\n",
    "\n",
    "<br>\n"
   ]
  },
  {
   "cell_type": "code",
   "execution_count": 9,
   "metadata": {},
   "outputs": [
    {
     "data": {
      "text/html": [
       "<img src=\"https://www.tensorflow.org/images/softmax-regression-scalargraph.png\" width=\"500\"/>"
      ],
      "text/plain": [
       "<IPython.core.display.Image object>"
      ]
     },
     "execution_count": 9,
     "metadata": {},
     "output_type": "execute_result"
    }
   ],
   "source": [
    "Image(url='https://www.tensorflow.org/images/softmax-regression-scalargraph.png', width=500)"
   ]
  },
  {
   "cell_type": "code",
   "execution_count": 10,
   "metadata": {},
   "outputs": [
    {
     "data": {
      "text/html": [
       "<img src=\"https://www.tensorflow.org/images/softmax-regression-vectorequation.png\" width=\"500\"/>"
      ],
      "text/plain": [
       "<IPython.core.display.Image object>"
      ]
     },
     "execution_count": 10,
     "metadata": {},
     "output_type": "execute_result"
    }
   ],
   "source": [
    "# Image(url='https://www.tensorflow.org/images/softmax-regression-scalarequation.png', width=500)\n",
    "Image(url='https://www.tensorflow.org/images/softmax-regression-vectorequation.png', width=500)"
   ]
  },
  {
   "cell_type": "markdown",
   "metadata": {},
   "source": [
    "em forma matricial, teremos:\n",
    "$\\mathbf{y} =  softmax(\\mathbf{W} \\mathbf{x} + \\mathbf{b})$\n",
    "\n",
    "<br>"
   ]
  },
  {
   "cell_type": "markdown",
   "metadata": {},
   "source": [
    "**Nota**: Em certas literaturas, os pesos $w_{i, j}$ representam respectivamente:\n",
    "* $i$: indice da camada a esquerda\n",
    "* $j$: indice da camada a direita\n",
    "\n",
    "sendo portando o contrário do que se apresenta aqui (ref. pág do TensorFlow). <br> \n",
    "Nesses casos, a formula seria $\\mathbf{y} =  softmax(\\mathbf{W}^T \\mathbf{x} + \\mathbf{b})$"
   ]
  },
  {
   "cell_type": "markdown",
   "metadata": {},
   "source": [
    "### TensorFlow"
   ]
  },
  {
   "cell_type": "markdown",
   "metadata": {},
   "source": [
    "Arquitetura do modelo: \n",
    "* construir grafos computacionais \n",
    "* utiliza variaveis simbólicas (tf.placeholder e tf.Variable)"
   ]
  },
  {
   "cell_type": "code",
   "execution_count": 11,
   "metadata": {},
   "outputs": [],
   "source": [
    "import tensorflow as tf"
   ]
  },
  {
   "cell_type": "markdown",
   "metadata": {},
   "source": [
    "##### 1.1) definindo arquitetura da rede\n",
    "construindo o grafo, <br>\n",
    "ou seja o que está conectado com o que?|"
   ]
  },
  {
   "cell_type": "code",
   "execution_count": 12,
   "metadata": {},
   "outputs": [],
   "source": [
    "# definindo o tensor de entrada (imagens)\n",
    "x = tf.placeholder(tf.float32, [None, 784])"
   ]
  },
  {
   "cell_type": "code",
   "execution_count": 13,
   "metadata": {},
   "outputs": [],
   "source": [
    "# definindo os parametros como variáveis, \n",
    "# e inicializando com zeros\n",
    "W = tf.Variable(tf.zeros([784, 10]))\n",
    "b = tf.Variable(tf.zeros([10]))"
   ]
  },
  {
   "cell_type": "markdown",
   "metadata": {
    "collapsed": true
   },
   "source": [
    "##### 1.2) como os resultados serão gerados\n",
    "via um layer softmax, que mapeia os valores numericos em probabilidades em [0,1].<br>\n",
    "ver a dinamica desse layer em [Neural Networks and Deep Learning](http://neuralnetworksanddeeplearning.com/chap3.html#softmax)"
   ]
  },
  {
   "cell_type": "code",
   "execution_count": 14,
   "metadata": {},
   "outputs": [],
   "source": [
    "# definindo o tensor de saída (probabilidades)\n",
    "y = tf.nn.softmax(tf.matmul(x, W) + b)"
   ]
  },
  {
   "cell_type": "code",
   "execution_count": 15,
   "metadata": {},
   "outputs": [],
   "source": [
    "# equivalente ao anterior\n",
    "# e = tf.matmul(x, W) + b\n",
    "# y = tf.nn.softmax(e)"
   ]
  },
  {
   "cell_type": "markdown",
   "metadata": {},
   "source": [
    "##### 1.3) definindo a métrica de performance\n",
    "como calcular os resultados, e a métrica que precisa ser minimizada."
   ]
  },
  {
   "cell_type": "code",
   "execution_count": 16,
   "metadata": {},
   "outputs": [],
   "source": [
    "# definindo um tensor para guardar os labels\n",
    "y_ = tf.placeholder(tf.float32, [None, 10])"
   ]
  },
  {
   "cell_type": "markdown",
   "metadata": {},
   "source": [
    "O cross-entropy é dado por:\n",
    "$ - \\sum{y'log(y)} $\n",
    "\n",
    "onde:<br>\n",
    "$y'$ é o label (gold) <br>\n",
    "$y$ é a probabilidade <br>"
   ]
  },
  {
   "cell_type": "code",
   "execution_count": 17,
   "metadata": {},
   "outputs": [],
   "source": [
    "# numericamente instável, só para fins didáticos\n",
    "# cross_entropy = tf.reduce_mean(-tf.reduce_sum(y_ * tf.log(y), reduction_indices=[1]))"
   ]
  },
  {
   "cell_type": "code",
   "execution_count": 18,
   "metadata": {},
   "outputs": [],
   "source": [
    "# Essa função softmax_cross_entropy_with_logits recebe como argumentos:\n",
    "# - a entrada da camada softmax: tf.matmul(x, W) + b (tambem chamado de logit)\n",
    "# - os true labels y_\n",
    "\n",
    "cross_entropy = tf.nn.softmax_cross_entropy_with_logits(logits = tf.matmul(x, W) + b, labels = y_)"
   ]
  },
  {
   "cell_type": "markdown",
   "metadata": {},
   "source": [
    "##### 1.4) encontrando os melhores $W_{i,j}$\n",
    "define qual algoritmo (de otimização) utilizar, implementa o backpropagation \n"
   ]
  },
  {
   "cell_type": "code",
   "execution_count": 19,
   "metadata": {},
   "outputs": [],
   "source": [
    "train_step = tf.train.GradientDescentOptimizer(0.5).minimize(cross_entropy)"
   ]
  },
  {
   "cell_type": "markdown",
   "metadata": {},
   "source": [
    "Então, até esse ponto temos: \n",
    "* o grafo construido, \n",
    "* como produzir resultados, \n",
    "* a métrica que precisa ser minimizada, e \n",
    "* o algoritmo para buscar os melhores parametros.\n",
    "\n",
    "Agora, vamos botar essa rede para rodar..."
   ]
  },
  {
   "cell_type": "markdown",
   "metadata": {},
   "source": [
    "#### 2) rodando a rede...\n",
    "ou seja: **treinando**"
   ]
  },
  {
   "cell_type": "code",
   "execution_count": 20,
   "metadata": {},
   "outputs": [],
   "source": [
    "# instanciando uma sessão\n",
    "sess = tf.InteractiveSession()"
   ]
  },
  {
   "cell_type": "code",
   "execution_count": 21,
   "metadata": {},
   "outputs": [],
   "source": [
    "# inicializando as variaveis\n",
    "tf.global_variables_initializer().run()"
   ]
  },
  {
   "cell_type": "markdown",
   "metadata": {},
   "source": [
    "```session.run(fetches, feeds)``` onde:<br>\n",
    "* ```fetches```: o que fazer - ou seja, nós a serem rodados, otimizações a serem feitas, etc...\n",
    "* ```feeds```: com o que fazer - ou seja, quais dados utilizar"
   ]
  },
  {
   "cell_type": "code",
   "execution_count": 22,
   "metadata": {},
   "outputs": [],
   "source": [
    "# rodando a rede\n",
    "for _ in range(1000):\n",
    "    batch_xs, batch_ys = mnist.train.next_batch(100)\n",
    "    sess.run(train_step, feed_dict={x: batch_xs, y_: batch_ys})"
   ]
  },
  {
   "cell_type": "markdown",
   "metadata": {},
   "source": [
    "#### 3) avaliando a performance\n",
    "quantos acertos, e quantos erros"
   ]
  },
  {
   "cell_type": "code",
   "execution_count": 23,
   "metadata": {},
   "outputs": [],
   "source": [
    "# retorna um vetor com booleanos, onde True significa acertos,\n",
    "# ou seja, quanto a os valores de y e y_ na linha coincidem\n",
    "correct_prediction = tf.equal(tf.argmax(y, 1), tf.argmax(y_, 1))"
   ]
  },
  {
   "cell_type": "code",
   "execution_count": 24,
   "metadata": {},
   "outputs": [],
   "source": [
    "accuracy = tf.reduce_mean(tf.cast(correct_prediction, tf.float32))"
   ]
  },
  {
   "cell_type": "code",
   "execution_count": 25,
   "metadata": {},
   "outputs": [
    {
     "data": {
      "text/plain": [
       "0.80250001"
      ]
     },
     "execution_count": 25,
     "metadata": {},
     "output_type": "execute_result"
    }
   ],
   "source": [
    "sess.run(accuracy, feed_dict={x: mnist.test.images, y_: mnist.test.labels})"
   ]
  },
  {
   "cell_type": "markdown",
   "metadata": {},
   "source": [
    "#### 4) aprimorando o modelo\n",
    "exercicio: modificar a rede e incluir uma camada escondida"
   ]
  },
  {
   "cell_type": "code",
   "execution_count": 26,
   "metadata": {},
   "outputs": [
    {
     "name": "stdout",
     "output_type": "stream",
     "text": [
      "Extracting MNIST_data/train-images-idx3-ubyte.gz\n",
      "Extracting MNIST_data/train-labels-idx1-ubyte.gz\n",
      "Extracting MNIST_data/t10k-images-idx3-ubyte.gz\n",
      "Extracting MNIST_data/t10k-labels-idx1-ubyte.gz\n"
     ]
    }
   ],
   "source": [
    "from tensorflow.examples.tutorials.mnist import input_data\n",
    "mnist = input_data.read_data_sets(\"MNIST_data/\", one_hot=True)"
   ]
  },
  {
   "cell_type": "code",
   "execution_count": 27,
   "metadata": {},
   "outputs": [],
   "source": [
    "import tensorflow as tf"
   ]
  },
  {
   "cell_type": "code",
   "execution_count": 28,
   "metadata": {},
   "outputs": [],
   "source": [
    "# x = tf.placeholder(tf.float32, [None, 784])\n",
    "# y_ = tf.placeholder(tf.float32, [None, 10])"
   ]
  },
  {
   "cell_type": "code",
   "execution_count": 29,
   "metadata": {},
   "outputs": [],
   "source": [
    "# redefinindo a arquitetura\n",
    "# W1 = tf.Variable(tf.zeros([784, 30]))\n",
    "# b1 = tf.Variable(tf.zeros([30]))\n",
    "\n",
    "# W2 = tf.Variable(tf.zeros([30, 10]))\n",
    "# b2 = tf.Variable(tf.zeros([10]))\n",
    "\n",
    "W1 = tf.Variable(tf.random_normal([784, 30], stddev=0.01))\n",
    "b1 = tf.Variable(tf.random_normal([30], stddev=0.01))\n",
    "\n",
    "W2 = tf.Variable(tf.random_normal([30, 10], stddev=0.01))\n",
    "b2 = tf.Variable(tf.random_normal([10], stddev=0.01))"
   ]
  },
  {
   "cell_type": "code",
   "execution_count": 30,
   "metadata": {},
   "outputs": [],
   "source": [
    "z = tf.nn.sigmoid(tf.matmul(x, W1) + b1)\n",
    "cross_entropy = tf.nn.softmax_cross_entropy_with_logits(logits = tf.matmul(z, W2) + b2, labels = y_)\n",
    "y = tf.nn.softmax(tf.matmul(z, W2) + b2)"
   ]
  },
  {
   "cell_type": "code",
   "execution_count": 31,
   "metadata": {},
   "outputs": [],
   "source": [
    "sess = tf.InteractiveSession()\n",
    "tf.global_variables_initializer().run()\n",
    "\n",
    "train_step = tf.train.GradientDescentOptimizer(0.03).minimize(cross_entropy)"
   ]
  },
  {
   "cell_type": "code",
   "execution_count": null,
   "metadata": {},
   "outputs": [],
   "source": [
    "for _ in range(16500):\n",
    "    batch_xs, batch_ys = mnist.train.next_batch(100)\n",
    "    sess.run(train_step, feed_dict={x: batch_xs, y_: batch_ys})"
   ]
  },
  {
   "cell_type": "code",
   "execution_count": 33,
   "metadata": {
    "collapsed": true
   },
   "outputs": [],
   "source": [
    "correct_prediction = tf.equal(tf.argmax(y, 1), tf.argmax(y_, 1))\n",
    "accuracy = tf.reduce_mean(tf.cast(correct_prediction, tf.float32))"
   ]
  },
  {
   "cell_type": "code",
   "execution_count": 34,
   "metadata": {},
   "outputs": [
    {
     "data": {
      "text/plain": [
       "0.96210003"
      ]
     },
     "execution_count": 34,
     "metadata": {},
     "output_type": "execute_result"
    }
   ],
   "source": [
    "sess.run(accuracy, feed_dict={x: mnist.test.images, y_: mnist.test.labels})"
   ]
  },
  {
   "cell_type": "markdown",
   "metadata": {},
   "source": [
    "_____\n",
    "_____"
   ]
  },
  {
   "cell_type": "markdown",
   "metadata": {},
   "source": [
    "### Preliminares\n",
    "Recapitulando como algumas funções em **numpy** funcionam.<br>\n",
    "Alguns modelos mentais importantes para entender a operação de **numpy** e **tensorflow**."
   ]
  },
  {
   "cell_type": "code",
   "execution_count": null,
   "metadata": {
    "collapsed": true
   },
   "outputs": [],
   "source": [
    "import numpy as np"
   ]
  },
  {
   "cell_type": "markdown",
   "metadata": {},
   "source": [
    "**MM1**: matrizes\n",
    "- A matriz é codificada como uma lista de listas.\n",
    "- axis = 0: nível mais externo\n",
    "- axis = 1: nível mais interno"
   ]
  },
  {
   "cell_type": "code",
   "execution_count": null,
   "metadata": {
    "collapsed": true
   },
   "outputs": [],
   "source": [
    "m = np.random.randint(0,20,15).reshape(5,3)\n",
    "m"
   ]
  },
  {
   "cell_type": "code",
   "execution_count": null,
   "metadata": {
    "collapsed": true
   },
   "outputs": [],
   "source": [
    "np.argmax(m, axis = 1)"
   ]
  },
  {
   "cell_type": "code",
   "execution_count": null,
   "metadata": {
    "collapsed": true
   },
   "outputs": [],
   "source": [
    "m.sum(axis = 0)"
   ]
  },
  {
   "cell_type": "markdown",
   "metadata": {},
   "source": [
    "**MM2**: tensores\n",
    "- O tensor é codificado como uma lista de listas de listas (de listas ...)\n",
    "- axis = 0: nível mais externo\n",
    "- axis = 1: nível intermediário\n",
    "- axis = 2: nível mais interno"
   ]
  },
  {
   "cell_type": "code",
   "execution_count": null,
   "metadata": {
    "collapsed": true
   },
   "outputs": [],
   "source": [
    "t = np.random.randint(0,20,30).reshape(2,5,3)\n",
    "t"
   ]
  },
  {
   "cell_type": "code",
   "execution_count": null,
   "metadata": {
    "collapsed": true
   },
   "outputs": [],
   "source": [
    "t.sum(axis = 0)"
   ]
  },
  {
   "cell_type": "code",
   "execution_count": null,
   "metadata": {
    "collapsed": true
   },
   "outputs": [],
   "source": [
    "t.sum(axis = 1)"
   ]
  },
  {
   "cell_type": "code",
   "execution_count": null,
   "metadata": {
    "collapsed": true
   },
   "outputs": [],
   "source": [
    "t.sum(axis = 2)"
   ]
  },
  {
   "cell_type": "code",
   "execution_count": null,
   "metadata": {
    "collapsed": true
   },
   "outputs": [],
   "source": [
    "t.argmax(0)"
   ]
  },
  {
   "cell_type": "code",
   "execution_count": null,
   "metadata": {
    "collapsed": true
   },
   "outputs": [],
   "source": []
  }
 ],
 "metadata": {
  "kernelspec": {
   "display_name": "Python 3",
   "language": "python",
   "name": "python3"
  },
  "language_info": {
   "codemirror_mode": {
    "name": "ipython",
    "version": 3
   },
   "file_extension": ".py",
   "mimetype": "text/x-python",
   "name": "python",
   "nbconvert_exporter": "python",
   "pygments_lexer": "ipython3",
   "version": "3.5.2"
  },
  "widgets": {
   "state": {
    "d2f96b14ccc24c4abbde22cbaddd133f": {
     "views": [
      {
       "cell_index": 8
      }
     ]
    }
   },
   "version": "1.2.0"
  }
 },
 "nbformat": 4,
 "nbformat_minor": 1
}
