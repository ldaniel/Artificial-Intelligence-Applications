{
 "cells": [
  {
   "cell_type": "markdown",
   "metadata": {},
   "source": [
    "# Deep Learning com Keras\n",
    "\n",
    "Vamos utilizar a solucao descrita em: [Keras/examples/mnist_mlp.py](https://github.com/fchollet/keras/blob/master/examples/mnist_mlp.py)<br>\n",
    "com algumas modificações\n"
   ]
  },
  {
   "cell_type": "markdown",
   "metadata": {},
   "source": [
    "#### Imports"
   ]
  },
  {
   "cell_type": "code",
   "execution_count": 1,
   "metadata": {},
   "outputs": [],
   "source": [
    "# pandas\n",
    "import pandas as pd\n",
    "\n",
    "# interatividade\n",
    "from ipywidgets import interact, interactive, fixed, interact_manual, FloatSlider, IntSlider\n",
    "import ipywidgets as widgets\n",
    "\n",
    "# graficos\n",
    "import seaborn as sns\n",
    "%matplotlib inline\n",
    "sns.set_context('paper')\n",
    "\n",
    "# outros\n",
    "from IPython.display import Image"
   ]
  },
  {
   "cell_type": "code",
   "execution_count": 2,
   "metadata": {},
   "outputs": [
    {
     "name": "stderr",
     "output_type": "stream",
     "text": [
      "Using TensorFlow backend.\n"
     ]
    }
   ],
   "source": [
    "'''Trains a simple deep NN on the MNIST dataset.\n",
    "\n",
    "Gets to 98.40% test accuracy after 20 epochs\n",
    "(there is *a lot* of margin for parameter tuning).\n",
    "2 seconds per epoch on a K520 GPU.\n",
    "'''\n",
    "\n",
    "from __future__ import print_function\n",
    "\n",
    "import keras\n",
    "from keras.datasets import mnist\n",
    "from keras.models import Sequential\n",
    "from keras.layers import Dense, Dropout #, Conv2D, LSTM\n",
    "from keras.optimizers import RMSprop"
   ]
  },
  {
   "cell_type": "markdown",
   "metadata": {},
   "source": [
    "#### Baixando Dataset"
   ]
  },
  {
   "cell_type": "code",
   "execution_count": 3,
   "metadata": {},
   "outputs": [],
   "source": [
    "# the data, shuffled and split between train and test sets\n",
    "(x_train, y_train), (x_test, y_test) = mnist.load_data()"
   ]
  },
  {
   "cell_type": "code",
   "execution_count": 4,
   "metadata": {},
   "outputs": [
    {
     "name": "stdout",
     "output_type": "stream",
     "text": [
      "(60000, 28, 28)\n",
      "(60000,)\n",
      "(10000, 28, 28)\n",
      "(10000,)\n"
     ]
    }
   ],
   "source": [
    "print(x_train.shape)\n",
    "print(y_train.shape)\n",
    "print(x_test.shape)\n",
    "print(y_test.shape)"
   ]
  },
  {
   "cell_type": "code",
   "execution_count": 5,
   "metadata": {},
   "outputs": [],
   "source": [
    "x_train_bak = x_train.copy()\n",
    "y_train_bak = y_train.copy()\n",
    "x_test_bak = x_test.copy()\n",
    "y_test_bak = y_test.copy()"
   ]
  },
  {
   "cell_type": "code",
   "execution_count": 6,
   "metadata": {},
   "outputs": [
    {
     "name": "stdout",
     "output_type": "stream",
     "text": [
      "amostra = 0\n",
      "label = 5\n"
     ]
    },
    {
     "data": {
      "image/png": "[encoded data removed]",
      "text/plain": [
       "<matplotlib.figure.Figure at 0x11a9259e8>"
      ]
     },
     "metadata": {},
     "output_type": "display_data"
    }
   ],
   "source": [
    "# checando algumas amostras\n",
    "def f(x, dataset):\n",
    "    if dataset == 'treino':\n",
    "        d = x_train_bak\n",
    "        y = y_train_bak\n",
    "    elif dataset == 'teste':\n",
    "        d = x_test_bak\n",
    "        y = y_test_bak\n",
    "\n",
    "    if x is '': \n",
    "        sns.heatmap(np.zeros((28,28)), cmap = 'gray_r', vmin = 0, vmax = 256)\n",
    "    else:\n",
    "        amostra = int(x)\n",
    "        print('amostra =', x)\n",
    "        print('label =', y[x])\n",
    "        sns.heatmap(d[x], cmap = 'gray_r', vmin = 0, vmax = 256)\n",
    "\n",
    "interact(f, dataset = ['treino', 'teste'], \n",
    "         x = IntSlider(min = 0, max = len(x_train) - 1, step = 1, \n",
    "                       continuous_update = False), );"
   ]
  },
  {
   "cell_type": "markdown",
   "metadata": {},
   "source": [
    "### Keras"
   ]
  },
  {
   "cell_type": "markdown",
   "metadata": {},
   "source": [
    "#### Definindo a Rede:\n",
    "* arquitetura\n",
    "* operação"
   ]
  },
  {
   "cell_type": "code",
   "execution_count": 7,
   "metadata": {},
   "outputs": [],
   "source": [
    "# tamanho do batch: numero de amostras em cada vez (stochastic gradient descend) \n",
    "# qtd de epochs: numero de varreduras completas no dataset\n",
    "batch_size = 128\n",
    "epochs = 20"
   ]
  },
  {
   "cell_type": "code",
   "execution_count": 8,
   "metadata": {},
   "outputs": [],
   "source": [
    "# saida:\n",
    "num_classes = 10"
   ]
  },
  {
   "cell_type": "code",
   "execution_count": 9,
   "metadata": {},
   "outputs": [
    {
     "name": "stdout",
     "output_type": "stream",
     "text": [
      "60000 train samples\n",
      "10000 test samples\n"
     ]
    }
   ],
   "source": [
    "# redimensionando os dados\n",
    "# normalizando os dados\n",
    "x_train = x_train.reshape(60000, 784)\n",
    "x_test = x_test.reshape(10000, 784)\n",
    "x_train = x_train.astype('float32')\n",
    "x_test = x_test.astype('float32')\n",
    "x_train /= 255\n",
    "x_test /= 255\n",
    "print(x_train.shape[0], 'train samples')\n",
    "print(x_test.shape[0], 'test samples')"
   ]
  },
  {
   "cell_type": "code",
   "execution_count": 10,
   "metadata": {},
   "outputs": [],
   "source": [
    "# convertendo os labels para ohe (one hot encoding)\n",
    "# convert class vectors to binary class matrices\n",
    "y_train = keras.utils.to_categorical(y_train, num_classes)\n",
    "y_test = keras.utils.to_categorical(y_test, num_classes)"
   ]
  },
  {
   "cell_type": "code",
   "execution_count": 11,
   "metadata": {},
   "outputs": [
    {
     "data": {
      "text/plain": [
       "(60000, 10)"
      ]
     },
     "execution_count": 11,
     "metadata": {},
     "output_type": "execute_result"
    }
   ],
   "source": [
    "# conferindo novo shape\n",
    "y_train.shape"
   ]
  },
  {
   "cell_type": "code",
   "execution_count": 12,
   "metadata": {},
   "outputs": [],
   "source": [
    "# definindo o modelo, utilizando o Keras Sequential Model API \n",
    "# Note:\n",
    "#   o shape de entrada é definido no primeiro model.add()\n",
    "#   as camadas sendo provisionadas em sequencia da entrada para saida\n",
    "#   os pesos são implicitamente definidos pela qtd de unidades em cada layer\n",
    "\n",
    "model = Sequential()\n",
    "model.add(Dense(512,             # Dense: tot. conectado (FC) a camada anterior\n",
    "          activation='relu', \n",
    "          input_shape=(784,),    # na 1a. vez incluir input_shape, input_dim\n",
    "          name = 'layer_1'))   \n",
    "\n",
    "model.add(Dropout(0.2))\n",
    "model.add(Dense(512, activation='relu', name = 'layer_2'))\n",
    "model.add(Dropout(0.2))\n",
    "model.add(Dense(10, activation='softmax', name = 'output_layer'), )"
   ]
  },
  {
   "cell_type": "code",
   "execution_count": 13,
   "metadata": {},
   "outputs": [
    {
     "name": "stdout",
     "output_type": "stream",
     "text": [
      "_________________________________________________________________\n",
      "Layer (type)                 Output Shape              Param #   \n",
      "=================================================================\n",
      "layer_1 (Dense)              (None, 512)               401920    \n",
      "_________________________________________________________________\n",
      "dropout_1 (Dropout)          (None, 512)               0         \n",
      "_________________________________________________________________\n",
      "layer_2 (Dense)              (None, 512)               262656    \n",
      "_________________________________________________________________\n",
      "dropout_2 (Dropout)          (None, 512)               0         \n",
      "_________________________________________________________________\n",
      "output_layer (Dense)         (None, 10)                5130      \n",
      "=================================================================\n",
      "Total params: 669,706\n",
      "Trainable params: 669,706\n",
      "Non-trainable params: 0\n",
      "_________________________________________________________________\n"
     ]
    }
   ],
   "source": [
    "# um resumo da arquitetura\n",
    "model.summary()"
   ]
  },
  {
   "cell_type": "code",
   "execution_count": 14,
   "metadata": {},
   "outputs": [],
   "source": [
    "# Etapa .compile()\n",
    "#   o grafo computacional em TensorFlow é criado\n",
    "#   a função de custo e metrica definidos (são diferentes)\n",
    "\n",
    "model.compile(loss = 'categorical_crossentropy',\n",
    "              optimizer = RMSprop(),\n",
    "              metrics = ['accuracy'])"
   ]
  },
  {
   "cell_type": "code",
   "execution_count": 15,
   "metadata": {},
   "outputs": [],
   "source": [
    "# incluindo TensorBoard logger\n",
    "from keras.callbacks import TensorBoard"
   ]
  },
  {
   "cell_type": "code",
   "execution_count": 16,
   "metadata": {},
   "outputs": [],
   "source": [
    "logger = TensorBoard(log_dir = 'logs', \n",
    "                     write_graph = True, \n",
    "                     histogram_freq = 5)\n",
    "\n",
    "# apos o treinamento chamar no terminal com\n",
    "# tensorboard --logdir=logs\n",
    "# copiar a URL para um browser\n",
    "\n",
    "# Dica 1:\n",
    "# ao incluir subdiretorios dentro do log, cada qual com resultados para diferentes\n",
    "# parametrizações, o tensorboard mostra cada run em curvas distintas"
   ]
  },
  {
   "cell_type": "markdown",
   "metadata": {},
   "source": [
    "#### Treinando o Modelo"
   ]
  },
  {
   "cell_type": "code",
   "execution_count": 17,
   "metadata": {},
   "outputs": [
    {
     "name": "stdout",
     "output_type": "stream",
     "text": [
      "Train on 60000 samples, validate on 10000 samples\n",
      "Epoch 1/20\n",
      "60000/60000 [==============================] - 23s - loss: 0.2458 - acc: 0.9235 - val_loss: 0.1133 - val_acc: 0.9647\n",
      "Epoch 2/20\n",
      "60000/60000 [==============================] - 11s - loss: 0.1036 - acc: 0.9689 - val_loss: 0.0883 - val_acc: 0.9718\n",
      "Epoch 3/20\n",
      "60000/60000 [==============================] - 11s - loss: 0.0751 - acc: 0.9772 - val_loss: 0.0780 - val_acc: 0.9780\n",
      "Epoch 4/20\n",
      "60000/60000 [==============================] - 11s - loss: 0.0615 - acc: 0.9814 - val_loss: 0.0706 - val_acc: 0.9817\n",
      "Epoch 5/20\n",
      "60000/60000 [==============================] - 11s - loss: 0.0516 - acc: 0.9849 - val_loss: 0.0697 - val_acc: 0.9818\n",
      "Epoch 6/20\n",
      "60000/60000 [==============================] - 23s - loss: 0.0439 - acc: 0.9873 - val_loss: 0.0973 - val_acc: 0.9769\n",
      "Epoch 7/20\n",
      "60000/60000 [==============================] - 11s - loss: 0.0398 - acc: 0.9882 - val_loss: 0.0779 - val_acc: 0.9821\n",
      "Epoch 8/20\n",
      "60000/60000 [==============================] - 12s - loss: 0.0360 - acc: 0.9897 - val_loss: 0.0889 - val_acc: 0.9816\n",
      "Epoch 9/20\n",
      "60000/60000 [==============================] - 11s - loss: 0.0324 - acc: 0.9906 - val_loss: 0.0889 - val_acc: 0.9815\n",
      "Epoch 10/20\n",
      "60000/60000 [==============================] - 11s - loss: 0.0287 - acc: 0.9915 - val_loss: 0.0994 - val_acc: 0.9810\n",
      "Epoch 11/20\n",
      "60000/60000 [==============================] - 26s - loss: 0.0274 - acc: 0.9923 - val_loss: 0.0847 - val_acc: 0.9821\n",
      "Epoch 12/20\n",
      "60000/60000 [==============================] - 12s - loss: 0.0262 - acc: 0.9927 - val_loss: 0.0873 - val_acc: 0.9834\n",
      "Epoch 13/20\n",
      "60000/60000 [==============================] - 12s - loss: 0.0256 - acc: 0.9934 - val_loss: 0.0997 - val_acc: 0.9825\n",
      "Epoch 14/20\n",
      "60000/60000 [==============================] - 12s - loss: 0.0244 - acc: 0.9933 - val_loss: 0.0937 - val_acc: 0.9834\n",
      "Epoch 15/20\n",
      "60000/60000 [==============================] - 12s - loss: 0.0224 - acc: 0.9937 - val_loss: 0.1148 - val_acc: 0.9805\n",
      "Epoch 16/20\n",
      "60000/60000 [==============================] - 25s - loss: 0.0240 - acc: 0.9938 - val_loss: 0.0995 - val_acc: 0.9838\n",
      "Epoch 17/20\n",
      "60000/60000 [==============================] - 12s - loss: 0.0227 - acc: 0.9943 - val_loss: 0.0997 - val_acc: 0.9855\n",
      "Epoch 18/20\n",
      "60000/60000 [==============================] - 12s - loss: 0.0203 - acc: 0.9947 - val_loss: 0.1086 - val_acc: 0.9840\n",
      "Epoch 19/20\n",
      "60000/60000 [==============================] - 14s - loss: 0.0182 - acc: 0.9952 - val_loss: 0.1214 - val_acc: 0.9819\n",
      "Epoch 20/20\n",
      "60000/60000 [==============================] - 12s - loss: 0.0188 - acc: 0.9951 - val_loss: 0.1034 - val_acc: 0.9830\n"
     ]
    }
   ],
   "source": [
    "# Etapa .fit()\n",
    "# valores X e y são submetidos a rede para treinamento\n",
    "\n",
    "history = model.fit(x_train, y_train,\n",
    "                    batch_size = batch_size,\n",
    "                    epochs = epochs,   # baixo aprende pouco, alto pode causar overfitting\n",
    "                    verbose = 1,\n",
    "                    callbacks = [logger],\n",
    "                    validation_data = (x_test, y_test))"
   ]
  },
  {
   "cell_type": "code",
   "execution_count": 18,
   "metadata": {},
   "outputs": [
    {
     "name": "stdout",
     "output_type": "stream",
     "text": [
      "Test loss: 0.103397552283\n",
      "Test accuracy: 0.983\n"
     ]
    }
   ],
   "source": [
    "score = model.evaluate(x_test, y_test, verbose=0)\n",
    "print('Test loss:', score[0])\n",
    "print('Test accuracy:', score[1])"
   ]
  },
  {
   "cell_type": "markdown",
   "metadata": {},
   "source": [
    "#### Fazendo uma Predição"
   ]
  },
  {
   "cell_type": "code",
   "execution_count": 19,
   "metadata": {},
   "outputs": [
    {
     "name": "stdout",
     "output_type": "stream",
     "text": [
      "amostra = 0\n",
      "label = 5\n"
     ]
    },
    {
     "data": {
      "image/png": "[encoded data removed]",
      "text/plain": [
       "<matplotlib.figure.Figure at 0x12a6505f8>"
      ]
     },
     "metadata": {},
     "output_type": "display_data"
    }
   ],
   "source": [
    "interact(f, dataset = ['treino', 'teste'], \n",
    "         x = IntSlider(min = 0, max = len(x_train) - 1, step = 1, \n",
    "                       continuous_update = False), );"
   ]
  },
  {
   "cell_type": "code",
   "execution_count": 20,
   "metadata": {},
   "outputs": [
    {
     "data": {
      "text/plain": [
       "<matplotlib.axes._subplots.AxesSubplot at 0x12a638da0>"
      ]
     },
     "execution_count": 20,
     "metadata": {},
     "output_type": "execute_result"
    },
    {
     "data": {
      "image/png": "[encoded data removed]",
      "text/plain": [
       "<matplotlib.figure.Figure at 0x12ba14be0>"
      ]
     },
     "metadata": {},
     "output_type": "display_data"
    }
   ],
   "source": [
    "pd.Series(model.predict(x_train[13443].reshape(1, 784))[0]).plot(kind = 'bar')"
   ]
  },
  {
   "cell_type": "code",
   "execution_count": null,
   "metadata": {},
   "outputs": [],
   "source": []
  },
  {
   "cell_type": "markdown",
   "metadata": {},
   "source": [
    "#### Salvando e Carregando o Modelo Treinado\n"
   ]
  },
  {
   "cell_type": "code",
   "execution_count": 21,
   "metadata": {},
   "outputs": [],
   "source": [
    "# salvando o modelo treinado\n",
    "model.save('modelo_treinado.h5')"
   ]
  },
  {
   "cell_type": "code",
   "execution_count": 22,
   "metadata": {},
   "outputs": [],
   "source": [
    "# carregando o modelo treinado\n",
    "from keras.models import load_model\n",
    "\n",
    "model = load_model('modelo_treinado.h5')"
   ]
  },
  {
   "cell_type": "code",
   "execution_count": null,
   "metadata": {},
   "outputs": [],
   "source": []
  }
 ],
 "metadata": {
  "kernelspec": {
   "display_name": "Python 3",
   "language": "python",
   "name": "python3"
  },
  "language_info": {
   "codemirror_mode": {
    "name": "ipython",
    "version": 3
   },
   "file_extension": ".py",
   "mimetype": "text/x-python",
   "name": "python",
   "nbconvert_exporter": "python",
   "pygments_lexer": "ipython3",
   "version": "3.7.7"
  },
  "toc-autonumbering": false,
  "toc-showmarkdowntxt": true
 },
 "nbformat": 4,
 "nbformat_minor": 4
}
