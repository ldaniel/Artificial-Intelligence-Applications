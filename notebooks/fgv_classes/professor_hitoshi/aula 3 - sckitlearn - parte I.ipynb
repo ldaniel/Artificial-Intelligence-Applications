{
 "cells": [
  {
   "cell_type": "markdown",
   "metadata": {},
   "source": [
    "# Machine Learning - Parte I"
   ]
  },
  {
   "cell_type": "markdown",
   "metadata": {},
   "source": [
    "Vamos começar a falar sobre os algoritmos de machine learning, começando por um de regressão. <br>\n",
    "Regressão linear é um algoritmo largamente utilizado, tendo já completado dois séculos de existência desde que sua primeira forma de utilização foi publicada no começo do século XIX."
   ]
  },
  {
   "cell_type": "markdown",
   "metadata": {},
   "source": [
    "Apesar de não ser o que conduz ao melhor modelo, daremos os primeiros passos para entender:\n",
    "\n",
    "* métricas de desempenho de modelos, ou seja como comparar modelos\n",
    "* estratégias de validação: separação entre treino e teste\n",
    "\n",
    "\n",
    "Além disso, introduziremos uma notação comum a todos os algoritmos da seguinte maneira:\n",
    "\n",
    "* $X$ : matriz de features\n",
    "* $y$ : vetor com os objetivos da predição\n"
   ]
  },
  {
   "cell_type": "markdown",
   "metadata": {},
   "source": [
    "# Regressão"
   ]
  },
  {
   "cell_type": "markdown",
   "metadata": {},
   "source": [
    "***\n",
    "\n",
    "***\n",
    "<div class=\"span5 alert alert-info\">\n",
    "\n",
    "<p> Fornecidos $x$ and $y$, o objetivo da regressão linear é: </p>\n",
    "<ul>\n",
    "  <li> Criar um <b>modelo preditivo</b> para predizer o $y$ a partir de $x_i$</li>\n",
    "  <li> Modelar a <b>importancia</b> entre cada variável dependente $x_i$ e $y$</li>\n",
    "    <ul>\n",
    "      <li> Nem todos os $x_i$ tem relação com $y$</li>\n",
    "      <li> Quais $x_i$ que mais contribuem para determinar $y$? </li>\n",
    "    </ul>\n",
    "</ul>\n",
    "</div>\n",
    "\n",
    "### recap\n",
    "***\n",
    "\n",
    "[Regressão Linear](http://en.wikipedia.org/wiki/Linear_regression) é um metodo para modelar a relação entre um conjunto de variaveis independentes $x$ (explanatórias, features, preditores) e uma variável dependente $Y$.  Esse metodo assume que $x$ tem uma relação linear com $y$.  \n",
    "\n",
    "$$ y = \\beta_0 + \\beta_1 x + \\epsilon$$\n",
    "\n",
    "one $\\epsilon$ refere-se a um erro. \n",
    "\n",
    "* $\\beta_0$ é a intercepto do modelo\n",
    "\n",
    "* O objetivo será estimar os coeficientes (e.g. $\\beta_0$ and $\\beta_1$). Representamos as estimativas com o \"chapeu\" em cima da letra. \n",
    "\n",
    "$$ \\hat{\\beta}_0, \\hat{\\beta}_1 $$\n",
    "\n",
    "* Uma vez obtido a estimativa dos coeficientes $\\hat{\\beta}_0$ and $\\hat{\\beta}_1$, podemos usar para predizer novos valores de $Y$\n",
    "\n",
    "$$\\hat{y} = \\hat{\\beta}_0 + \\hat{\\beta}_1 x_1$$\n",
    "\n",
    "* Regressão Linear Multipla é quando há mais de uma variavel independente\n",
    "    * $x_1$, $x_2$, $x_3$, $\\ldots$\n",
    "\n",
    "$$ y = \\beta_0 + \\beta_1 x_1 + \\ldots + \\beta_p x_p + \\epsilon$$ "
   ]
  },
  {
   "cell_type": "code",
   "execution_count": 3,
   "metadata": {},
   "outputs": [],
   "source": [
    "import numpy as np\n",
    "import pandas as pd\n",
    "from pandas import Series,DataFrame"
   ]
  },
  {
   "cell_type": "code",
   "execution_count": 4,
   "metadata": {},
   "outputs": [],
   "source": [
    "import matplotlib.pyplot as plt\n",
    "import seaborn as sns\n",
    "sns.set_style('whitegrid')\n",
    "%matplotlib inline"
   ]
  },
  {
   "cell_type": "code",
   "execution_count": 9,
   "metadata": {},
   "outputs": [],
   "source": [
    "from sklearn.datasets import load_boston\n",
    "from sklearn.linear_model import LinearRegression\n",
    "# from sklearn.cross_validation import train_test_split\n",
    "from sklearn.model_selection import train_test_split"
   ]
  },
  {
   "cell_type": "markdown",
   "metadata": {},
   "source": [
    "#### Importando o dataset:"
   ]
  },
  {
   "cell_type": "code",
   "execution_count": 10,
   "metadata": {},
   "outputs": [],
   "source": [
    "boston = load_boston()"
   ]
  },
  {
   "cell_type": "code",
   "execution_count": 11,
   "metadata": {},
   "outputs": [
    {
     "name": "stdout",
     "output_type": "stream",
     "text": [
      ".. _boston_dataset:\n",
      "\n",
      "Boston house prices dataset\n",
      "---------------------------\n",
      "\n",
      "**Data Set Characteristics:**  \n",
      "\n",
      "    :Number of Instances: 506 \n",
      "\n",
      "    :Number of Attributes: 13 numeric/categorical predictive. Median Value (attribute 14) is usually the target.\n",
      "\n",
      "    :Attribute Information (in order):\n",
      "        - CRIM     per capita crime rate by town\n",
      "        - ZN       proportion of residential land zoned for lots over 25,000 sq.ft.\n",
      "        - INDUS    proportion of non-retail business acres per town\n",
      "        - CHAS     Charles River dummy variable (= 1 if tract bounds river; 0 otherwise)\n",
      "        - NOX      nitric oxides concentration (parts per 10 million)\n",
      "        - RM       average number of rooms per dwelling\n",
      "        - AGE      proportion of owner-occupied units built prior to 1940\n",
      "        - DIS      weighted distances to five Boston employment centres\n",
      "        - RAD      index of accessibility to radial highways\n",
      "        - TAX      full-value property-tax rate per $10,000\n",
      "        - PTRATIO  pupil-teacher ratio by town\n",
      "        - B        1000(Bk - 0.63)^2 where Bk is the proportion of blacks by town\n",
      "        - LSTAT    % lower status of the population\n",
      "        - MEDV     Median value of owner-occupied homes in $1000's\n",
      "\n",
      "    :Missing Attribute Values: None\n",
      "\n",
      "    :Creator: Harrison, D. and Rubinfeld, D.L.\n",
      "\n",
      "This is a copy of UCI ML housing dataset.\n",
      "https://archive.ics.uci.edu/ml/machine-learning-databases/housing/\n",
      "\n",
      "\n",
      "This dataset was taken from the StatLib library which is maintained at Carnegie Mellon University.\n",
      "\n",
      "The Boston house-price data of Harrison, D. and Rubinfeld, D.L. 'Hedonic\n",
      "prices and the demand for clean air', J. Environ. Economics & Management,\n",
      "vol.5, 81-102, 1978.   Used in Belsley, Kuh & Welsch, 'Regression diagnostics\n",
      "...', Wiley, 1980.   N.B. Various transformations are used in the table on\n",
      "pages 244-261 of the latter.\n",
      "\n",
      "The Boston house-price data has been used in many machine learning papers that address regression\n",
      "problems.   \n",
      "     \n",
      ".. topic:: References\n",
      "\n",
      "   - Belsley, Kuh & Welsch, 'Regression diagnostics: Identifying Influential Data and Sources of Collinearity', Wiley, 1980. 244-261.\n",
      "   - Quinlan,R. (1993). Combining Instance-Based and Model-Based Learning. In Proceedings on the Tenth International Conference of Machine Learning, 236-243, University of Massachusetts, Amherst. Morgan Kaufmann.\n",
      "\n"
     ]
    }
   ],
   "source": [
    "print(boston.DESCR)"
   ]
  },
  {
   "cell_type": "markdown",
   "metadata": {},
   "source": [
    "#### Carregando o dataframe"
   ]
  },
  {
   "cell_type": "code",
   "execution_count": 12,
   "metadata": {},
   "outputs": [],
   "source": [
    "# carregando o df\n",
    "boston_df = pd.DataFrame(boston.data)\n",
    "\n",
    "# nome das colunas\n",
    "boston_df.columns = boston.feature_names"
   ]
  },
  {
   "cell_type": "markdown",
   "metadata": {},
   "source": [
    "#### Explorando o dataframe"
   ]
  },
  {
   "cell_type": "code",
   "execution_count": 13,
   "metadata": {},
   "outputs": [
    {
     "data": {
      "text/html": [
       "<div>\n",
       "<style scoped>\n",
       "    .dataframe tbody tr th:only-of-type {\n",
       "        vertical-align: middle;\n",
       "    }\n",
       "\n",
       "    .dataframe tbody tr th {\n",
       "        vertical-align: top;\n",
       "    }\n",
       "\n",
       "    .dataframe thead th {\n",
       "        text-align: right;\n",
       "    }\n",
       "</style>\n",
       "<table border=\"1\" class=\"dataframe\">\n",
       "  <thead>\n",
       "    <tr style=\"text-align: right;\">\n",
       "      <th></th>\n",
       "      <th>CRIM</th>\n",
       "      <th>ZN</th>\n",
       "      <th>INDUS</th>\n",
       "      <th>CHAS</th>\n",
       "      <th>NOX</th>\n",
       "      <th>RM</th>\n",
       "      <th>AGE</th>\n",
       "      <th>DIS</th>\n",
       "      <th>RAD</th>\n",
       "      <th>TAX</th>\n",
       "      <th>PTRATIO</th>\n",
       "      <th>B</th>\n",
       "      <th>LSTAT</th>\n",
       "    </tr>\n",
       "  </thead>\n",
       "  <tbody>\n",
       "    <tr>\n",
       "      <th>345</th>\n",
       "      <td>0.03113</td>\n",
       "      <td>0.0</td>\n",
       "      <td>4.39</td>\n",
       "      <td>0.0</td>\n",
       "      <td>0.442</td>\n",
       "      <td>6.014</td>\n",
       "      <td>48.5</td>\n",
       "      <td>8.0136</td>\n",
       "      <td>3.0</td>\n",
       "      <td>352.0</td>\n",
       "      <td>18.8</td>\n",
       "      <td>385.64</td>\n",
       "      <td>10.53</td>\n",
       "    </tr>\n",
       "    <tr>\n",
       "      <th>80</th>\n",
       "      <td>0.04113</td>\n",
       "      <td>25.0</td>\n",
       "      <td>4.86</td>\n",
       "      <td>0.0</td>\n",
       "      <td>0.426</td>\n",
       "      <td>6.727</td>\n",
       "      <td>33.5</td>\n",
       "      <td>5.4007</td>\n",
       "      <td>4.0</td>\n",
       "      <td>281.0</td>\n",
       "      <td>19.0</td>\n",
       "      <td>396.90</td>\n",
       "      <td>5.29</td>\n",
       "    </tr>\n",
       "    <tr>\n",
       "      <th>363</th>\n",
       "      <td>4.22239</td>\n",
       "      <td>0.0</td>\n",
       "      <td>18.10</td>\n",
       "      <td>1.0</td>\n",
       "      <td>0.770</td>\n",
       "      <td>5.803</td>\n",
       "      <td>89.0</td>\n",
       "      <td>1.9047</td>\n",
       "      <td>24.0</td>\n",
       "      <td>666.0</td>\n",
       "      <td>20.2</td>\n",
       "      <td>353.04</td>\n",
       "      <td>14.64</td>\n",
       "    </tr>\n",
       "    <tr>\n",
       "      <th>102</th>\n",
       "      <td>0.22876</td>\n",
       "      <td>0.0</td>\n",
       "      <td>8.56</td>\n",
       "      <td>0.0</td>\n",
       "      <td>0.520</td>\n",
       "      <td>6.405</td>\n",
       "      <td>85.4</td>\n",
       "      <td>2.7147</td>\n",
       "      <td>5.0</td>\n",
       "      <td>384.0</td>\n",
       "      <td>20.9</td>\n",
       "      <td>70.80</td>\n",
       "      <td>10.63</td>\n",
       "    </tr>\n",
       "    <tr>\n",
       "      <th>443</th>\n",
       "      <td>9.96654</td>\n",
       "      <td>0.0</td>\n",
       "      <td>18.10</td>\n",
       "      <td>0.0</td>\n",
       "      <td>0.740</td>\n",
       "      <td>6.485</td>\n",
       "      <td>100.0</td>\n",
       "      <td>1.9784</td>\n",
       "      <td>24.0</td>\n",
       "      <td>666.0</td>\n",
       "      <td>20.2</td>\n",
       "      <td>386.73</td>\n",
       "      <td>18.85</td>\n",
       "    </tr>\n",
       "  </tbody>\n",
       "</table>\n",
       "</div>"
      ],
      "text/plain": [
       "        CRIM    ZN  INDUS  CHAS    NOX     RM    AGE     DIS   RAD    TAX  \\\n",
       "345  0.03113   0.0   4.39   0.0  0.442  6.014   48.5  8.0136   3.0  352.0   \n",
       "80   0.04113  25.0   4.86   0.0  0.426  6.727   33.5  5.4007   4.0  281.0   \n",
       "363  4.22239   0.0  18.10   1.0  0.770  5.803   89.0  1.9047  24.0  666.0   \n",
       "102  0.22876   0.0   8.56   0.0  0.520  6.405   85.4  2.7147   5.0  384.0   \n",
       "443  9.96654   0.0  18.10   0.0  0.740  6.485  100.0  1.9784  24.0  666.0   \n",
       "\n",
       "     PTRATIO       B  LSTAT  \n",
       "345     18.8  385.64  10.53  \n",
       "80      19.0  396.90   5.29  \n",
       "363     20.2  353.04  14.64  \n",
       "102     20.9   70.80  10.63  \n",
       "443     20.2  386.73  18.85  "
      ]
     },
     "execution_count": 13,
     "metadata": {},
     "output_type": "execute_result"
    }
   ],
   "source": [
    "boston_df.sample(5)"
   ]
  },
  {
   "cell_type": "code",
   "execution_count": 14,
   "metadata": {},
   "outputs": [
    {
     "data": {
      "text/plain": [
       "<matplotlib.axes._subplots.AxesSubplot at 0x12daea610>"
      ]
     },
     "execution_count": 14,
     "metadata": {},
     "output_type": "execute_result"
    },
    {
     "data": {
      "image/png": "[encoded data removed]",
      "text/plain": [
       "<Figure size 432x288 with 1 Axes>"
      ]
     },
     "metadata": {
      "needs_background": "light"
     },
     "output_type": "display_data"
    }
   ],
   "source": [
    "boston_df.plot(kind='scatter', x = 'RM', y = 'AGE')"
   ]
  },
  {
   "cell_type": "code",
   "execution_count": 15,
   "metadata": {},
   "outputs": [
    {
     "data": {
      "text/plain": [
       "<seaborn.axisgrid.JointGrid at 0x12fbcc490>"
      ]
     },
     "execution_count": 15,
     "metadata": {},
     "output_type": "execute_result"
    },
    {
     "data": {
      "image/png": "[encoded data removed]",
      "text/plain": [
       "<Figure size 432x432 with 3 Axes>"
      ]
     },
     "metadata": {
      "needs_background": "light"
     },
     "output_type": "display_data"
    }
   ],
   "source": [
    "sns.jointplot(data=boston_df, x = 'RM', y = 'AGE', kind = 'hex')"
   ]
  },
  {
   "cell_type": "code",
   "execution_count": 16,
   "metadata": {},
   "outputs": [
    {
     "data": {
      "text/plain": [
       "<seaborn.axisgrid.JointGrid at 0x12fe22690>"
      ]
     },
     "execution_count": 16,
     "metadata": {},
     "output_type": "execute_result"
    },
    {
     "data": {
      "image/png": "[encoded data removed]",
      "text/plain": [
       "<Figure size 432x432 with 3 Axes>"
      ]
     },
     "metadata": {
      "needs_background": "light"
     },
     "output_type": "display_data"
    }
   ],
   "source": [
    "sns.jointplot(data=boston_df, x = 'RM', y = 'AGE', kind = 'kde')"
   ]
  },
  {
   "cell_type": "code",
   "execution_count": 17,
   "metadata": {},
   "outputs": [],
   "source": [
    "# introduzindo a coluna de precos\n",
    "boston_df['Preco'] = boston.target"
   ]
  },
  {
   "cell_type": "code",
   "execution_count": 18,
   "metadata": {},
   "outputs": [
    {
     "data": {
      "text/html": [
       "<div>\n",
       "<style scoped>\n",
       "    .dataframe tbody tr th:only-of-type {\n",
       "        vertical-align: middle;\n",
       "    }\n",
       "\n",
       "    .dataframe tbody tr th {\n",
       "        vertical-align: top;\n",
       "    }\n",
       "\n",
       "    .dataframe thead th {\n",
       "        text-align: right;\n",
       "    }\n",
       "</style>\n",
       "<table border=\"1\" class=\"dataframe\">\n",
       "  <thead>\n",
       "    <tr style=\"text-align: right;\">\n",
       "      <th></th>\n",
       "      <th>CRIM</th>\n",
       "      <th>ZN</th>\n",
       "      <th>INDUS</th>\n",
       "      <th>CHAS</th>\n",
       "      <th>NOX</th>\n",
       "      <th>RM</th>\n",
       "      <th>AGE</th>\n",
       "      <th>DIS</th>\n",
       "      <th>RAD</th>\n",
       "      <th>TAX</th>\n",
       "      <th>PTRATIO</th>\n",
       "      <th>B</th>\n",
       "      <th>LSTAT</th>\n",
       "      <th>Preco</th>\n",
       "    </tr>\n",
       "  </thead>\n",
       "  <tbody>\n",
       "    <tr>\n",
       "      <th>159</th>\n",
       "      <td>1.42502</td>\n",
       "      <td>0.0</td>\n",
       "      <td>19.58</td>\n",
       "      <td>0.0</td>\n",
       "      <td>0.871</td>\n",
       "      <td>6.510</td>\n",
       "      <td>100.0</td>\n",
       "      <td>1.7659</td>\n",
       "      <td>5.0</td>\n",
       "      <td>403.0</td>\n",
       "      <td>14.7</td>\n",
       "      <td>364.31</td>\n",
       "      <td>7.39</td>\n",
       "      <td>23.3</td>\n",
       "    </tr>\n",
       "    <tr>\n",
       "      <th>439</th>\n",
       "      <td>9.39063</td>\n",
       "      <td>0.0</td>\n",
       "      <td>18.10</td>\n",
       "      <td>0.0</td>\n",
       "      <td>0.740</td>\n",
       "      <td>5.627</td>\n",
       "      <td>93.9</td>\n",
       "      <td>1.8172</td>\n",
       "      <td>24.0</td>\n",
       "      <td>666.0</td>\n",
       "      <td>20.2</td>\n",
       "      <td>396.90</td>\n",
       "      <td>22.88</td>\n",
       "      <td>12.8</td>\n",
       "    </tr>\n",
       "    <tr>\n",
       "      <th>291</th>\n",
       "      <td>0.07886</td>\n",
       "      <td>80.0</td>\n",
       "      <td>4.95</td>\n",
       "      <td>0.0</td>\n",
       "      <td>0.411</td>\n",
       "      <td>7.148</td>\n",
       "      <td>27.7</td>\n",
       "      <td>5.1167</td>\n",
       "      <td>4.0</td>\n",
       "      <td>245.0</td>\n",
       "      <td>19.2</td>\n",
       "      <td>396.90</td>\n",
       "      <td>3.56</td>\n",
       "      <td>37.3</td>\n",
       "    </tr>\n",
       "    <tr>\n",
       "      <th>467</th>\n",
       "      <td>4.42228</td>\n",
       "      <td>0.0</td>\n",
       "      <td>18.10</td>\n",
       "      <td>0.0</td>\n",
       "      <td>0.584</td>\n",
       "      <td>6.003</td>\n",
       "      <td>94.5</td>\n",
       "      <td>2.5403</td>\n",
       "      <td>24.0</td>\n",
       "      <td>666.0</td>\n",
       "      <td>20.2</td>\n",
       "      <td>331.29</td>\n",
       "      <td>21.32</td>\n",
       "      <td>19.1</td>\n",
       "    </tr>\n",
       "    <tr>\n",
       "      <th>256</th>\n",
       "      <td>0.01538</td>\n",
       "      <td>90.0</td>\n",
       "      <td>3.75</td>\n",
       "      <td>0.0</td>\n",
       "      <td>0.394</td>\n",
       "      <td>7.454</td>\n",
       "      <td>34.2</td>\n",
       "      <td>6.3361</td>\n",
       "      <td>3.0</td>\n",
       "      <td>244.0</td>\n",
       "      <td>15.9</td>\n",
       "      <td>386.34</td>\n",
       "      <td>3.11</td>\n",
       "      <td>44.0</td>\n",
       "    </tr>\n",
       "  </tbody>\n",
       "</table>\n",
       "</div>"
      ],
      "text/plain": [
       "        CRIM    ZN  INDUS  CHAS    NOX     RM    AGE     DIS   RAD    TAX  \\\n",
       "159  1.42502   0.0  19.58   0.0  0.871  6.510  100.0  1.7659   5.0  403.0   \n",
       "439  9.39063   0.0  18.10   0.0  0.740  5.627   93.9  1.8172  24.0  666.0   \n",
       "291  0.07886  80.0   4.95   0.0  0.411  7.148   27.7  5.1167   4.0  245.0   \n",
       "467  4.42228   0.0  18.10   0.0  0.584  6.003   94.5  2.5403  24.0  666.0   \n",
       "256  0.01538  90.0   3.75   0.0  0.394  7.454   34.2  6.3361   3.0  244.0   \n",
       "\n",
       "     PTRATIO       B  LSTAT  Preco  \n",
       "159     14.7  364.31   7.39   23.3  \n",
       "439     20.2  396.90  22.88   12.8  \n",
       "291     19.2  396.90   3.56   37.3  \n",
       "467     20.2  331.29  21.32   19.1  \n",
       "256     15.9  386.34   3.11   44.0  "
      ]
     },
     "execution_count": 18,
     "metadata": {},
     "output_type": "execute_result"
    }
   ],
   "source": [
    "boston_df.sample(5)"
   ]
  },
  {
   "cell_type": "code",
   "execution_count": 19,
   "metadata": {},
   "outputs": [
    {
     "data": {
      "image/png": "[encoded data removed]",
      "text/plain": [
       "<Figure size 432x288 with 1 Axes>"
      ]
     },
     "metadata": {
      "needs_background": "light"
     },
     "output_type": "display_data"
    }
   ],
   "source": [
    "# Histograma dos preços (alvo da predição)\n",
    "plt.hist(boston_df['Preco'], bins = 50);\n",
    "\n",
    "# Nome dos eixos\n",
    "plt.xlabel('Precos in $1000s');\n",
    "plt.ylabel('Numero de towns');"
   ]
  },
  {
   "cell_type": "code",
   "execution_count": 20,
   "metadata": {},
   "outputs": [],
   "source": [
    "boston_df_sample = boston_df.sample(frac = 0.1)"
   ]
  },
  {
   "cell_type": "code",
   "execution_count": 21,
   "metadata": {},
   "outputs": [
    {
     "data": {
      "image/png": "[encoded data removed]",
      "text/plain": [
       "<Figure size 432x432 with 3 Axes>"
      ]
     },
     "metadata": {
      "needs_background": "light"
     },
     "output_type": "display_data"
    }
   ],
   "source": [
    "# Plotando a coluna #5 (RM)\n",
    "# plt.scatter(boston_df['RM'], boston_df['Preco'])\n",
    "\n",
    "sns.jointplot(data = boston_df, x = 'RM', y = 'Preco', kind = 'hex');\n",
    "\n",
    "#label\n",
    "plt.ylabel('Precos em $1000s');\n",
    "plt.xlabel('Media da qtd de comodos por habitacao');"
   ]
  },
  {
   "cell_type": "code",
   "execution_count": null,
   "metadata": {},
   "outputs": [],
   "source": []
  },
  {
   "cell_type": "code",
   "execution_count": null,
   "metadata": {},
   "outputs": [],
   "source": []
  },
  {
   "cell_type": "markdown",
   "metadata": {},
   "source": [
    "### Problema de negócio: Quero predizer o preço."
   ]
  },
  {
   "cell_type": "markdown",
   "metadata": {},
   "source": [
    "#### Se eu tivesse somente uma feature...\n",
    "(e usando scipy)"
   ]
  },
  {
   "cell_type": "code",
   "execution_count": 22,
   "metadata": {},
   "outputs": [
    {
     "data": {
      "text/plain": [
       "<seaborn.axisgrid.FacetGrid at 0x1305f8410>"
      ]
     },
     "execution_count": 22,
     "metadata": {},
     "output_type": "execute_result"
    },
    {
     "data": {
      "image/png": "[encoded data removed]",
      "text/plain": [
       "<Figure size 360x360 with 1 Axes>"
      ]
     },
     "metadata": {
      "needs_background": "light"
     },
     "output_type": "display_data"
    }
   ],
   "source": [
    "# como seria...\n",
    "sns.lmplot('RM', 'Preco', data=boston_df, fit_reg=True)"
   ]
  },
  {
   "cell_type": "code",
   "execution_count": 21,
   "metadata": {},
   "outputs": [],
   "source": [
    "# Tentem isso tambem...\n",
    "# sns.jointplot('RM', 'Preco', data=boston_df, kind = 'reg')"
   ]
  },
  {
   "cell_type": "markdown",
   "metadata": {},
   "source": [
    "#### Objetivo: encontrar os \"melhores\" $a$ e $b$ \n",
    "\n",
    "$y = a.x + b$\n",
    "\n",
    "onde\n",
    "\n",
    "* $y$ : preço\n",
    "* $x$ : qtd média de quartos"
   ]
  },
  {
   "cell_type": "code",
   "execution_count": 23,
   "metadata": {},
   "outputs": [],
   "source": [
    "from scipy import stats\n",
    "import numpy as np\n",
    "X = boston_df.RM\n",
    "y = boston_df.Preco\n",
    "a, b, r_value, p_value, std_err = stats.linregress(X,y)\n",
    "\n",
    "inclinacao, intercepto = a, b  "
   ]
  },
  {
   "cell_type": "code",
   "execution_count": 24,
   "metadata": {},
   "outputs": [
    {
     "name": "stdout",
     "output_type": "stream",
     "text": [
      "9.102108981180306\n",
      "-34.67062077643854\n"
     ]
    }
   ],
   "source": [
    "print (inclinacao)\n",
    "print (intercepto)"
   ]
  },
  {
   "cell_type": "code",
   "execution_count": 25,
   "metadata": {},
   "outputs": [],
   "source": [
    "quartos = np.array(X)\n",
    "precos = np.array(y)\n",
    "\n",
    "pred = a * quartos + b \n"
   ]
  },
  {
   "cell_type": "code",
   "execution_count": 31,
   "metadata": {},
   "outputs": [
    {
     "name": "stdout",
     "output_type": "stream",
     "text": [
      "RMSE = 6.603071389222561\n"
     ]
    }
   ],
   "source": [
    "# RMSE\n",
    "rmse = np.sqrt(np.mean((pred - precos) ** 2))\n",
    "print ('RMSE =', rmse)"
   ]
  },
  {
   "cell_type": "code",
   "execution_count": 32,
   "metadata": {},
   "outputs": [
    {
     "data": {
      "text/plain": [
       "6.603071389222561"
      ]
     },
     "execution_count": 32,
     "metadata": {},
     "output_type": "execute_result"
    }
   ],
   "source": [
    "np.sqrt(np.mean((pred - precos) ** 2))"
   ]
  },
  {
   "cell_type": "markdown",
   "metadata": {},
   "source": [
    "Uma interpretação do RMSE"
   ]
  },
  {
   "cell_type": "code",
   "execution_count": 29,
   "metadata": {},
   "outputs": [
    {
     "name": "stdout",
     "output_type": "stream",
     "text": [
      "Para uma cidade (town) cuja media de comodos é 6 comodos...\n",
      "o preço previsto será 19.94, e ...\n",
      "... em 68% das observações, o preco fica entre 13.34 e 26.55.\n",
      "... em 95% das observações, o preco fica entre 6.74 e 33.15.\n"
     ]
    }
   ],
   "source": [
    "r = 6\n",
    "p = a * r + b\n",
    "\n",
    "print ('Para uma cidade (town) cuja media de comodos é', r, 'comodos...')\n",
    "print ('o preço previsto será %.2f, e ...'% p)\n",
    "print ('... em 68%% das observações, o preco fica entre %.2f e %.2f.' % (p - rmse, p + rmse))\n",
    "print ('... em 95%% das observações, o preco fica entre %.2f e %.2f.' % (p - 2*rmse, p + 2*rmse))"
   ]
  },
  {
   "cell_type": "markdown",
   "metadata": {},
   "source": [
    "#### Como encontrar os \"melhores\" $a$ e $b$?\n",
    "** => Metodo dos minimos quadrados **\n",
    "\n",
    "In English: Least Squares Method.<br>\n",
    "Como seaborn encontra a linha acima?"
   ]
  },
  {
   "cell_type": "code",
   "execution_count": 33,
   "metadata": {},
   "outputs": [
    {
     "data": {
      "image/png": "[encoded data removed]",
      "text/plain": [
       "<IPython.core.display.Image object>"
      ]
     },
     "execution_count": 33,
     "metadata": {},
     "output_type": "execute_result"
    }
   ],
   "source": [
    "from IPython.display import Image\n",
    "url = 'http://upload.wikimedia.org/wikipedia/commons/thumb/b/b0/Linear_least_squares_example2.svg/220px-Linear_least_squares_example2.svg.png'\n",
    "Image(url)"
   ]
  },
  {
   "cell_type": "markdown",
   "metadata": {},
   "source": [
    "Pergunta: qual a melhor linha azul que representa o conjunto de pontos vermelhos? <br>\n",
    "Resposta: a que minimiza a soma dos quadrados das linhas verdes (o erro)"
   ]
  },
  {
   "cell_type": "markdown",
   "metadata": {},
   "source": [
    "\\begin{equation*}\n",
    "MSE\\quad = \\frac { 1 }{ n } \\sum _{ i=0 }^{ n-1 }{ { { (\\hat { { y }^{ (i) } }  } }-{ y }^{ (i) })^{ 2 } }   \\quad \n",
    "\\end{equation*}"
   ]
  },
  {
   "cell_type": "markdown",
   "metadata": {},
   "source": [
    "\\begin{equation*}\n",
    "RMSE\\quad = \\sqrt { \\frac { 1 }{ n } \\sum _{ i\\quad =\\quad 0 }^{ n-1 }{ { { (\\hat { { y }^{ (i) } }  } }-{ y }^{ (i) })^{ 2 } }   } \\quad  \n",
    "\\end{equation*}"
   ]
  },
  {
   "cell_type": "markdown",
   "metadata": {},
   "source": [
    "#### agora com multiplas variáveis"
   ]
  },
  {
   "cell_type": "code",
   "execution_count": 35,
   "metadata": {},
   "outputs": [
    {
     "data": {
      "text/plain": [
       "CRIM         0.00632\n",
       "ZN          18.00000\n",
       "INDUS        2.31000\n",
       "CHAS         0.00000\n",
       "NOX          0.53800\n",
       "RM           6.57500\n",
       "AGE         65.20000\n",
       "DIS          4.09000\n",
       "RAD          1.00000\n",
       "TAX        296.00000\n",
       "PTRATIO     15.30000\n",
       "B          396.90000\n",
       "LSTAT        4.98000\n",
       "Preco       24.00000\n",
       "Name: 0, dtype: float64"
      ]
     },
     "execution_count": 35,
     "metadata": {},
     "output_type": "execute_result"
    }
   ],
   "source": [
    "# primeira observação:\n",
    "boston_df.iloc[0]"
   ]
  },
  {
   "cell_type": "markdown",
   "metadata": {},
   "source": [
    "Notação:\n",
    "\n",
    "$x^{(0)}_{CRIM} = 0.00632$\n",
    "\n",
    "$x^{(0)}_{ZN} = 18.00000$\n",
    "\n",
    "$x^{(0)}_{LSTAT} = 4.98$\n",
    "\n",
    "$y^{(0)} = 24$"
   ]
  },
  {
   "cell_type": "markdown",
   "metadata": {},
   "source": [
    "A principal \"jogada\" da regressão linear é considerar que cada feature contribui linearmente na composição do preço:\n",
    "\n",
    "$\\hat{y^{(i)}} = a_{CRIM}.x^{(i)}_{CRIM} + a_{ZN}.x^{(i)}_{ZN} + ... + a_{LSTAT}.x^{(i)}_{LSTAT} + b$, <br>\n",
    "\n",
    "para $i = 0, 1, 2,..., n-1$ \n",
    "\n",
    "e o objetivo será encontrar $a_{CRIM}, a_{ZN}, ...,a_{LSTAT}, b$ que minimizam o erro \n",
    "\n",
    "Numa forma matricial, podemos re-escrever o problema da seguinte maneira:\n",
    "\n",
    "\n",
    "\\begin{equation*}\n",
    "\\mathbf{X}.\\mathbf{a} = \\hat{\\mathbf{y}}\n",
    "\\end{equation*}\n",
    "\n",
    "<br>\n",
    "\n",
    "\n",
    "\\begin{equation*}\n",
    "\\mathbf{X} =  \\begin{bmatrix}\n",
    "x^{(0)}_{CRIM} & x^{(0)}_{ZN} & ... & x^{(0)}_{LSTAT} & 1 \\\\\n",
    "x^{(1)}_{CRIM} & x^{(1)}_{ZN} & ... & x^{(1)}_{LSTAT} & 1 \\\\\n",
    "... & ... & ... & ...\\\\\n",
    "x^{(n-1)}_{CRIM} & x^{(n-1)}_{ZN} & ... & x^{(n-1)}_{LSTAT} & 1 \\\\\n",
    "\\end{bmatrix}\n",
    "\\end{equation*}\n",
    "\n",
    "<br>\n",
    "\n",
    "\\begin{equation*}\n",
    "\\mathbf{a} =  \\begin{bmatrix}\n",
    "a_{CRIM} \\\\\n",
    "a_{ZN} \\\\\n",
    "... \\\\\n",
    "a_{LSTAT}\\\\\n",
    "b \\\\\n",
    "\\end{bmatrix}\n",
    "\\end{equation*}\n",
    "\n",
    "<br>\n",
    "\n",
    "\\begin{equation*}\n",
    "\\mathbf{y} =  \\begin{bmatrix}\n",
    "\\hat{y^{(0)}} \\\\\n",
    "\\hat{y^{(1)}} \\\\\n",
    "... \\\\\n",
    "\\hat{y^{(n-1)}}\\\\\n",
    "\\end{bmatrix}\n",
    "\\end{equation*}"
   ]
  },
  {
   "cell_type": "code",
   "execution_count": null,
   "metadata": {},
   "outputs": [],
   "source": []
  },
  {
   "cell_type": "markdown",
   "metadata": {},
   "source": [
    "#### Engenharia e seleção de features... "
   ]
  },
  {
   "cell_type": "code",
   "execution_count": 36,
   "metadata": {},
   "outputs": [
    {
     "data": {
      "text/plain": [
       "<seaborn.axisgrid.PairGrid at 0x11387ab38>"
      ]
     },
     "execution_count": 36,
     "metadata": {},
     "output_type": "execute_result"
    },
    {
     "data": {
      "image/png": "[encoded data removed]",
      "text/plain": [
       "<Figure size 720x720 with 20 Axes>"
      ]
     },
     "metadata": {},
     "output_type": "display_data"
    }
   ],
   "source": [
    "sns.pairplot(data=boston_df.iloc[:,:4])"
   ]
  },
  {
   "cell_type": "code",
   "execution_count": 37,
   "metadata": {},
   "outputs": [
    {
     "data": {
      "text/plain": [
       "Index(['CRIM', 'ZN', 'INDUS', 'CHAS', 'NOX', 'RM', 'AGE', 'DIS', 'RAD', 'TAX',\n",
       "       'PTRATIO', 'B', 'LSTAT', 'Preco'],\n",
       "      dtype='object')"
      ]
     },
     "execution_count": 37,
     "metadata": {},
     "output_type": "execute_result"
    }
   ],
   "source": [
    "boston_df.columns"
   ]
  },
  {
   "cell_type": "code",
   "execution_count": null,
   "metadata": {},
   "outputs": [],
   "source": []
  },
  {
   "cell_type": "markdown",
   "metadata": {},
   "source": [
    "### treinamento e predição com sklearn começam aqui..."
   ]
  },
  {
   "cell_type": "code",
   "execution_count": 34,
   "metadata": {},
   "outputs": [],
   "source": [
    "# Regressão linear - sklearn\n",
    "import sklearn\n",
    "from sklearn.linear_model import LinearRegression"
   ]
  },
  {
   "cell_type": "code",
   "execution_count": 36,
   "metadata": {},
   "outputs": [],
   "source": [
    "lreg = LinearRegression()"
   ]
  },
  {
   "cell_type": "markdown",
   "metadata": {},
   "source": [
    "Funções utilizadas:\n",
    "\n",
    "* `lreg.fit()` : para treinar o modelo\n",
    "\n",
    "* `lreg.predict()` : predição do valor, segundo um modelo treinado\n",
    "\n",
    "* `lreg.score()` : retorna o coeficiente de determinação (R^2), uma medida de quão bem o modelo captura as observações. "
   ]
  },
  {
   "cell_type": "code",
   "execution_count": 38,
   "metadata": {},
   "outputs": [],
   "source": [
    "# Separando as matrizes X (features) e y (labels)\n",
    "\n",
    "X = boston_df.drop('Preco', axis = 1)\n",
    "y = boston_df.Preco"
   ]
  },
  {
   "cell_type": "code",
   "execution_count": 41,
   "metadata": {},
   "outputs": [
    {
     "data": {
      "text/plain": [
       "LinearRegression(copy_X=True, fit_intercept=True, n_jobs=None, normalize=False)"
      ]
     },
     "execution_count": 41,
     "metadata": {},
     "output_type": "execute_result"
    }
   ],
   "source": [
    "lreg.fit(X, y)"
   ]
  },
  {
   "cell_type": "code",
   "execution_count": 42,
   "metadata": {},
   "outputs": [
    {
     "data": {
      "text/plain": [
       "36.45948838508978"
      ]
     },
     "execution_count": 42,
     "metadata": {},
     "output_type": "execute_result"
    }
   ],
   "source": [
    "lreg.intercept_"
   ]
  },
  {
   "cell_type": "code",
   "execution_count": 43,
   "metadata": {},
   "outputs": [
    {
     "data": {
      "text/plain": [
       "array([-1.08011358e-01,  4.64204584e-02,  2.05586264e-02,  2.68673382e+00,\n",
       "       -1.77666112e+01,  3.80986521e+00,  6.92224640e-04, -1.47556685e+00,\n",
       "        3.06049479e-01, -1.23345939e-02, -9.52747232e-01,  9.31168327e-03,\n",
       "       -5.24758378e-01])"
      ]
     },
     "execution_count": 43,
     "metadata": {},
     "output_type": "execute_result"
    }
   ],
   "source": [
    "lreg.coef_"
   ]
  },
  {
   "cell_type": "code",
   "execution_count": 44,
   "metadata": {},
   "outputs": [
    {
     "name": "stdout",
     "output_type": "stream",
     "text": [
      "Valor do coeficiente b, tambem chamado de intercept: 36.45948838508978\n"
     ]
    }
   ],
   "source": [
    "print ('Valor do coeficiente b, tambem chamado de intercept:', lreg.intercept_)"
   ]
  },
  {
   "cell_type": "code",
   "execution_count": 45,
   "metadata": {},
   "outputs": [
    {
     "data": {
      "text/html": [
       "<div>\n",
       "<style scoped>\n",
       "    .dataframe tbody tr th:only-of-type {\n",
       "        vertical-align: middle;\n",
       "    }\n",
       "\n",
       "    .dataframe tbody tr th {\n",
       "        vertical-align: top;\n",
       "    }\n",
       "\n",
       "    .dataframe thead th {\n",
       "        text-align: right;\n",
       "    }\n",
       "</style>\n",
       "<table border=\"1\" class=\"dataframe\">\n",
       "  <thead>\n",
       "    <tr style=\"text-align: right;\">\n",
       "      <th></th>\n",
       "      <th>Features</th>\n",
       "      <th>Estimativa dos coeficientes</th>\n",
       "    </tr>\n",
       "  </thead>\n",
       "  <tbody>\n",
       "    <tr>\n",
       "      <th>0</th>\n",
       "      <td>CRIM</td>\n",
       "      <td>-0.108011</td>\n",
       "    </tr>\n",
       "    <tr>\n",
       "      <th>1</th>\n",
       "      <td>ZN</td>\n",
       "      <td>0.046420</td>\n",
       "    </tr>\n",
       "    <tr>\n",
       "      <th>2</th>\n",
       "      <td>INDUS</td>\n",
       "      <td>0.020559</td>\n",
       "    </tr>\n",
       "    <tr>\n",
       "      <th>3</th>\n",
       "      <td>CHAS</td>\n",
       "      <td>2.686734</td>\n",
       "    </tr>\n",
       "    <tr>\n",
       "      <th>4</th>\n",
       "      <td>NOX</td>\n",
       "      <td>-17.766611</td>\n",
       "    </tr>\n",
       "    <tr>\n",
       "      <th>5</th>\n",
       "      <td>RM</td>\n",
       "      <td>3.809865</td>\n",
       "    </tr>\n",
       "    <tr>\n",
       "      <th>6</th>\n",
       "      <td>AGE</td>\n",
       "      <td>0.000692</td>\n",
       "    </tr>\n",
       "    <tr>\n",
       "      <th>7</th>\n",
       "      <td>DIS</td>\n",
       "      <td>-1.475567</td>\n",
       "    </tr>\n",
       "    <tr>\n",
       "      <th>8</th>\n",
       "      <td>RAD</td>\n",
       "      <td>0.306049</td>\n",
       "    </tr>\n",
       "    <tr>\n",
       "      <th>9</th>\n",
       "      <td>TAX</td>\n",
       "      <td>-0.012335</td>\n",
       "    </tr>\n",
       "    <tr>\n",
       "      <th>10</th>\n",
       "      <td>PTRATIO</td>\n",
       "      <td>-0.952747</td>\n",
       "    </tr>\n",
       "    <tr>\n",
       "      <th>11</th>\n",
       "      <td>B</td>\n",
       "      <td>0.009312</td>\n",
       "    </tr>\n",
       "    <tr>\n",
       "      <th>12</th>\n",
       "      <td>LSTAT</td>\n",
       "      <td>-0.524758</td>\n",
       "    </tr>\n",
       "    <tr>\n",
       "      <th>13</th>\n",
       "      <td>Preco</td>\n",
       "      <td>NaN</td>\n",
       "    </tr>\n",
       "  </tbody>\n",
       "</table>\n",
       "</div>"
      ],
      "text/plain": [
       "   Features  Estimativa dos coeficientes\n",
       "0      CRIM                    -0.108011\n",
       "1        ZN                     0.046420\n",
       "2     INDUS                     0.020559\n",
       "3      CHAS                     2.686734\n",
       "4       NOX                   -17.766611\n",
       "5        RM                     3.809865\n",
       "6       AGE                     0.000692\n",
       "7       DIS                    -1.475567\n",
       "8       RAD                     0.306049\n",
       "9       TAX                    -0.012335\n",
       "10  PTRATIO                    -0.952747\n",
       "11        B                     0.009312\n",
       "12    LSTAT                    -0.524758\n",
       "13    Preco                          NaN"
      ]
     },
     "execution_count": 45,
     "metadata": {},
     "output_type": "execute_result"
    }
   ],
   "source": [
    "# Vamos agora ver os coeficientes:\n",
    "coeff_df = DataFrame(boston_df.columns)\n",
    "coeff_df.columns = ['Features']\n",
    "\n",
    "# coluna com os coeficientes\n",
    "coeff_df[\"Estimativa dos coeficientes\"] = pd.Series(lreg.coef_)\n",
    "\n",
    "# mostra coeficientes\n",
    "coeff_df"
   ]
  },
  {
   "cell_type": "code",
   "execution_count": null,
   "metadata": {},
   "outputs": [],
   "source": []
  },
  {
   "cell_type": "code",
   "execution_count": 46,
   "metadata": {},
   "outputs": [
    {
     "data": {
      "text/plain": [
       "<matplotlib.axes._subplots.AxesSubplot at 0x133dd0310>"
      ]
     },
     "execution_count": 46,
     "metadata": {},
     "output_type": "execute_result"
    },
    {
     "data": {
      "image/png": "[encoded data removed]",
      "text/plain": [
       "<Figure size 864x576 with 1 Axes>"
      ]
     },
     "metadata": {
      "needs_background": "light"
     },
     "output_type": "display_data"
    }
   ],
   "source": [
    "coeff_df.set_index('Features').plot(kind = 'bar', figsize = (12, 8))"
   ]
  },
  {
   "cell_type": "code",
   "execution_count": 47,
   "metadata": {},
   "outputs": [
    {
     "data": {
      "text/plain": [
       "<matplotlib.axes._subplots.AxesSubplot at 0x13407bd10>"
      ]
     },
     "execution_count": 47,
     "metadata": {},
     "output_type": "execute_result"
    },
    {
     "data": {
      "image/png": "[encoded data removed]",
      "text/plain": [
       "<Figure size 864x576 with 1 Axes>"
      ]
     },
     "metadata": {
      "needs_background": "light"
     },
     "output_type": "display_data"
    }
   ],
   "source": [
    "# calibrando os coeficientes pelo valor medio da variavel\n",
    "\n",
    "coeff_df.set_index('Features', inplace = True)\n",
    "\n",
    "coeff_df = pd.concat([coeff_df, boston_df.mean()], axis = 1).rename(columns = {0: 'media'})\n",
    "\n",
    "coeff_df['coef_vezes_media'] = coeff_df['Estimativa dos coeficientes'] * coeff_df.media\n",
    "\n",
    "coeff_df.coef_vezes_media.plot(kind = 'bar', figsize = (12, 8))"
   ]
  },
  {
   "cell_type": "code",
   "execution_count": 50,
   "metadata": {},
   "outputs": [
    {
     "data": {
      "text/html": [
       "<div>\n",
       "<style scoped>\n",
       "    .dataframe tbody tr th:only-of-type {\n",
       "        vertical-align: middle;\n",
       "    }\n",
       "\n",
       "    .dataframe tbody tr th {\n",
       "        vertical-align: top;\n",
       "    }\n",
       "\n",
       "    .dataframe thead th {\n",
       "        text-align: right;\n",
       "    }\n",
       "</style>\n",
       "<table border=\"1\" class=\"dataframe\">\n",
       "  <thead>\n",
       "    <tr style=\"text-align: right;\">\n",
       "      <th></th>\n",
       "      <th>CRIM</th>\n",
       "      <th>ZN</th>\n",
       "      <th>INDUS</th>\n",
       "      <th>CHAS</th>\n",
       "      <th>NOX</th>\n",
       "      <th>RM</th>\n",
       "      <th>AGE</th>\n",
       "      <th>DIS</th>\n",
       "      <th>RAD</th>\n",
       "      <th>TAX</th>\n",
       "      <th>PTRATIO</th>\n",
       "      <th>B</th>\n",
       "      <th>LSTAT</th>\n",
       "      <th>Preco</th>\n",
       "    </tr>\n",
       "  </thead>\n",
       "  <tbody>\n",
       "    <tr>\n",
       "      <th>0</th>\n",
       "      <td>0.00632</td>\n",
       "      <td>18.0</td>\n",
       "      <td>2.31</td>\n",
       "      <td>0.0</td>\n",
       "      <td>0.538</td>\n",
       "      <td>6.575</td>\n",
       "      <td>65.2</td>\n",
       "      <td>4.0900</td>\n",
       "      <td>1.0</td>\n",
       "      <td>296.0</td>\n",
       "      <td>15.3</td>\n",
       "      <td>396.90</td>\n",
       "      <td>4.98</td>\n",
       "      <td>24.0</td>\n",
       "    </tr>\n",
       "    <tr>\n",
       "      <th>1</th>\n",
       "      <td>0.02731</td>\n",
       "      <td>0.0</td>\n",
       "      <td>7.07</td>\n",
       "      <td>0.0</td>\n",
       "      <td>0.469</td>\n",
       "      <td>6.421</td>\n",
       "      <td>78.9</td>\n",
       "      <td>4.9671</td>\n",
       "      <td>2.0</td>\n",
       "      <td>242.0</td>\n",
       "      <td>17.8</td>\n",
       "      <td>396.90</td>\n",
       "      <td>9.14</td>\n",
       "      <td>21.6</td>\n",
       "    </tr>\n",
       "    <tr>\n",
       "      <th>2</th>\n",
       "      <td>0.02729</td>\n",
       "      <td>0.0</td>\n",
       "      <td>7.07</td>\n",
       "      <td>0.0</td>\n",
       "      <td>0.469</td>\n",
       "      <td>7.185</td>\n",
       "      <td>61.1</td>\n",
       "      <td>4.9671</td>\n",
       "      <td>2.0</td>\n",
       "      <td>242.0</td>\n",
       "      <td>17.8</td>\n",
       "      <td>392.83</td>\n",
       "      <td>4.03</td>\n",
       "      <td>34.7</td>\n",
       "    </tr>\n",
       "  </tbody>\n",
       "</table>\n",
       "</div>"
      ],
      "text/plain": [
       "      CRIM    ZN  INDUS  CHAS    NOX     RM   AGE     DIS  RAD    TAX  \\\n",
       "0  0.00632  18.0   2.31   0.0  0.538  6.575  65.2  4.0900  1.0  296.0   \n",
       "1  0.02731   0.0   7.07   0.0  0.469  6.421  78.9  4.9671  2.0  242.0   \n",
       "2  0.02729   0.0   7.07   0.0  0.469  7.185  61.1  4.9671  2.0  242.0   \n",
       "\n",
       "   PTRATIO       B  LSTAT  Preco  \n",
       "0     15.3  396.90   4.98   24.0  \n",
       "1     17.8  396.90   9.14   21.6  \n",
       "2     17.8  392.83   4.03   34.7  "
      ]
     },
     "execution_count": 50,
     "metadata": {},
     "output_type": "execute_result"
    }
   ],
   "source": [
    "boston_df.head(3)"
   ]
  },
  {
   "cell_type": "code",
   "execution_count": 49,
   "metadata": {},
   "outputs": [
    {
     "data": {
      "text/plain": [
       "array([30.00384338, 25.02556238, 30.56759672, 28.60703649, 27.94352423,\n",
       "       25.25628446, 23.00180827, 19.53598843, 11.52363685, 18.92026211,\n",
       "       18.99949651, 21.58679568, 20.90652153, 19.55290281, 19.28348205,\n",
       "       19.29748321, 20.52750979, 16.91140135, 16.17801106, 18.40613603,\n",
       "       12.52385753, 17.67103669, 15.83288129, 13.80628535, 15.67833832,\n",
       "       13.38668561, 15.46397655, 14.70847428, 19.54737285, 20.8764282 ,\n",
       "       11.45511759, 18.05923295,  8.81105736, 14.28275814, 13.70675891,\n",
       "       23.81463526, 22.34193708, 23.10891142, 22.91502612, 31.35762569,\n",
       "       34.21510225, 28.02056414, 25.20386628, 24.60979273, 22.94149176,\n",
       "       22.09669817, 20.42320032, 18.03655088,  9.10655377, 17.20607751,\n",
       "       21.28152535, 23.97222285, 27.6558508 , 24.04901809, 15.3618477 ,\n",
       "       31.15264947, 24.85686978, 33.10919806, 21.77537987, 21.08493555,\n",
       "       17.8725804 , 18.51110208, 23.98742856, 22.55408869, 23.37308644,\n",
       "       30.36148358, 25.53056512, 21.11338564, 17.42153786, 20.78483633,\n",
       "       25.20148859, 21.7426577 , 24.55744957, 24.04295712, 25.50499716,\n",
       "       23.9669302 , 22.94545403, 23.35699818, 21.26198266, 22.42817373,\n",
       "       28.40576968, 26.99486086, 26.03576297, 25.05873482, 24.78456674,\n",
       "       27.79049195, 22.16853423, 25.89276415, 30.67461827, 30.83110623,\n",
       "       27.1190194 , 27.41266734, 28.94122762, 29.08105546, 27.03977365,\n",
       "       28.62459949, 24.72744978, 35.78159518, 35.11454587, 32.25102801,\n",
       "       24.58022019, 25.59413475, 19.79013684, 20.31167129, 21.43482591,\n",
       "       18.53994008, 17.18755992, 20.75049026, 22.64829115, 19.7720367 ,\n",
       "       20.64965864, 26.52586744, 20.77323638, 20.71548315, 25.17208881,\n",
       "       20.43025591, 23.37724626, 23.69043261, 20.33578364, 20.79180873,\n",
       "       21.91632071, 22.47107777, 20.55738556, 16.36661977, 20.56099819,\n",
       "       22.48178446, 14.61706633, 15.17876684, 18.93868592, 14.05573285,\n",
       "       20.03527399, 19.41013402, 20.06191566, 15.75807673, 13.25645238,\n",
       "       17.26277735, 15.87841883, 19.36163954, 13.81483897, 16.44881475,\n",
       "       13.57141932,  3.98885508, 14.59495478, 12.1488148 ,  8.72822362,\n",
       "       12.03585343, 15.82082058,  8.5149902 ,  9.71844139, 14.80451374,\n",
       "       20.83858153, 18.30101169, 20.12282558, 17.28601894, 22.36600228,\n",
       "       20.10375923, 13.62125891, 33.25982697, 29.03017268, 25.56752769,\n",
       "       32.70827666, 36.77467015, 40.55765844, 41.84728168, 24.78867379,\n",
       "       25.37889238, 37.20347455, 23.08748747, 26.40273955, 26.65382114,\n",
       "       22.5551466 , 24.29082812, 22.97657219, 29.07194308, 26.5219434 ,\n",
       "       30.72209056, 25.61669307, 29.13740979, 31.43571968, 32.92231568,\n",
       "       34.72440464, 27.76552111, 33.88787321, 30.99238036, 22.71820008,\n",
       "       24.7664781 , 35.88497226, 33.42476722, 32.41199147, 34.51509949,\n",
       "       30.76109485, 30.28934141, 32.91918714, 32.11260771, 31.55871004,\n",
       "       40.84555721, 36.12770079, 32.6692081 , 34.70469116, 30.09345162,\n",
       "       30.64393906, 29.28719501, 37.07148392, 42.03193124, 43.18949844,\n",
       "       22.69034796, 23.68284712, 17.85447214, 23.49428992, 17.00587718,\n",
       "       22.39251096, 17.06042754, 22.73892921, 25.21942554, 11.11916737,\n",
       "       24.51049148, 26.60334775, 28.35518713, 24.91525464, 29.68652768,\n",
       "       33.18419746, 23.77456656, 32.14051958, 29.7458199 , 38.37102453,\n",
       "       39.81461867, 37.58605755, 32.3995325 , 35.45665242, 31.23411512,\n",
       "       24.48449227, 33.28837292, 38.0481048 , 37.16328631, 31.71383523,\n",
       "       25.26705571, 30.10010745, 32.71987156, 28.42717057, 28.42940678,\n",
       "       27.29375938, 23.74262478, 24.12007891, 27.40208414, 16.3285756 ,\n",
       "       13.39891261, 20.01638775, 19.86184428, 21.2883131 , 24.0798915 ,\n",
       "       24.20633547, 25.04215821, 24.91964007, 29.94563374, 23.97228316,\n",
       "       21.69580887, 37.51109239, 43.30239043, 36.48361421, 34.98988594,\n",
       "       34.81211508, 37.16631331, 40.98928501, 34.44634089, 35.83397547,\n",
       "       28.245743  , 31.22673593, 40.8395575 , 39.31792393, 25.70817905,\n",
       "       22.30295533, 27.20340972, 28.51169472, 35.47676598, 36.10639164,\n",
       "       33.79668274, 35.61085858, 34.83993382, 30.35192656, 35.30980701,\n",
       "       38.79756966, 34.33123186, 40.33963075, 44.67308339, 31.59689086,\n",
       "       27.3565923 , 20.10174154, 27.04206674, 27.2136458 , 26.91395839,\n",
       "       33.43563311, 34.40349633, 31.8333982 , 25.81783237, 24.42982348,\n",
       "       28.45764337, 27.36266999, 19.53928758, 29.11309844, 31.91054611,\n",
       "       30.77159449, 28.94275871, 28.88191022, 32.79887232, 33.20905456,\n",
       "       30.76831792, 35.56226857, 32.70905124, 28.64244237, 23.58965827,\n",
       "       18.54266897, 26.87889843, 23.28133979, 25.54580246, 25.48120057,\n",
       "       20.53909901, 17.61572573, 18.37581686, 24.29070277, 21.32529039,\n",
       "       24.88682244, 24.86937282, 22.86952447, 19.45123791, 25.11783401,\n",
       "       24.66786913, 23.68076177, 19.34089616, 21.17418105, 24.25249073,\n",
       "       21.59260894, 19.98446605, 23.33888   , 22.14060692, 21.55509929,\n",
       "       20.61872907, 20.16097176, 19.28490387, 22.1667232 , 21.24965774,\n",
       "       21.42939305, 30.32788796, 22.04734975, 27.70647912, 28.54794117,\n",
       "       16.54501121, 14.78359641, 25.27380082, 27.54205117, 22.14837562,\n",
       "       20.45944095, 20.54605423, 16.88063827, 25.40253506, 14.32486632,\n",
       "       16.59488462, 19.63704691, 22.71806607, 22.20218887, 19.20548057,\n",
       "       22.66616105, 18.93192618, 18.22846804, 20.23150811, 37.4944739 ,\n",
       "       14.28190734, 15.54286248, 10.83162324, 23.80072902, 32.6440736 ,\n",
       "       34.60684042, 24.94331333, 25.9998091 ,  6.126325  ,  0.77779806,\n",
       "       25.30713064, 17.74061065, 20.23274414, 15.83331301, 16.83512587,\n",
       "       14.36994825, 18.47682833, 13.4276828 , 13.06177512,  3.27918116,\n",
       "        8.06022171,  6.12842196,  5.6186481 ,  6.4519857 , 14.20764735,\n",
       "       17.21225183, 17.29887265,  9.89116643, 20.22124193, 17.94181175,\n",
       "       20.30445783, 19.29559075, 16.33632779,  6.55162319, 10.89016778,\n",
       "       11.88145871, 17.81174507, 18.26126587, 12.97948781,  7.37816361,\n",
       "        8.21115861,  8.06626193, 19.98294786, 13.70756369, 19.85268454,\n",
       "       15.22308298, 16.96071981,  1.71851807, 11.80578387, -4.28131071,\n",
       "        9.58376737, 13.36660811,  6.89562363,  6.14779852, 14.60661794,\n",
       "       19.6000267 , 18.12427476, 18.52177132, 13.1752861 , 14.62617624,\n",
       "        9.92374976, 16.34590647, 14.07519426, 14.25756243, 13.04234787,\n",
       "       18.15955693, 18.69554354, 21.527283  , 17.03141861, 15.96090435,\n",
       "       13.36141611, 14.52079384,  8.81976005,  4.86751102, 13.06591313,\n",
       "       12.70609699, 17.29558059, 18.740485  , 18.05901029, 11.51474683,\n",
       "       11.97400359, 17.68344618, 18.12695239, 17.5183465 , 17.22742507,\n",
       "       16.52271631, 19.41291095, 18.58215236, 22.48944791, 15.28000133,\n",
       "       15.82089335, 12.68725581, 12.8763379 , 17.18668531, 18.51247609,\n",
       "       19.04860533, 20.17208927, 19.7740732 , 22.42940768, 20.31911854,\n",
       "       17.88616253, 14.37478523, 16.94776851, 16.98405762, 18.58838397,\n",
       "       20.16719441, 22.97718032, 22.45580726, 25.57824627, 16.39147632,\n",
       "       16.1114628 , 20.534816  , 11.54272738, 19.20496304, 21.86276391,\n",
       "       23.46878866, 27.09887315, 28.56994302, 21.08398783, 19.45516196,\n",
       "       22.22225914, 19.65591961, 21.32536104, 11.85583717,  8.22386687,\n",
       "        3.66399672, 13.75908538, 15.93118545, 20.62662054, 20.61249414,\n",
       "       16.88541964, 14.01320787, 19.10854144, 21.29805174, 18.45498841,\n",
       "       20.46870847, 23.53334055, 22.37571892, 27.6274261 , 26.12796681,\n",
       "       22.34421229])"
      ]
     },
     "execution_count": 49,
     "metadata": {},
     "output_type": "execute_result"
    }
   ],
   "source": [
    "#lreg = LinearRegression()\n",
    "#lreg.fit(X, y)\n",
    "lreg.predict(X)"
   ]
  },
  {
   "cell_type": "code",
   "execution_count": 51,
   "metadata": {},
   "outputs": [
    {
     "name": "stdout",
     "output_type": "stream",
     "text": [
      "Treinei com X: RMSE com y: 4.68\n"
     ]
    }
   ],
   "source": [
    "print(\"Treinei com X: RMSE com y: %.2f\"  \n",
    "      % np.sqrt(np.mean((y - lreg.predict(X)) ** 2)))"
   ]
  },
  {
   "cell_type": "code",
   "execution_count": 52,
   "metadata": {},
   "outputs": [],
   "source": [
    "from sklearn.metrics import mean_squared_error"
   ]
  },
  {
   "cell_type": "code",
   "execution_count": 53,
   "metadata": {},
   "outputs": [
    {
     "data": {
      "text/plain": [
       "4.679191295697281"
      ]
     },
     "execution_count": 53,
     "metadata": {},
     "output_type": "execute_result"
    }
   ],
   "source": [
    "np.sqrt(mean_squared_error(y, lreg.predict(X)))"
   ]
  },
  {
   "cell_type": "code",
   "execution_count": null,
   "metadata": {},
   "outputs": [],
   "source": []
  },
  {
   "cell_type": "code",
   "execution_count": null,
   "metadata": {},
   "outputs": [],
   "source": []
  },
  {
   "cell_type": "markdown",
   "metadata": {},
   "source": [
    "## Treinamento e Validação"
   ]
  },
  {
   "cell_type": "markdown",
   "metadata": {},
   "source": [
    "### Objetivo de separar os dados em treinamento e teste\n",
    "***\n",
    "<div class=\"span5 alert alert-info\">\n",
    "\n",
    "<p> No exemplo acima: </p>\n",
    "<ul>\n",
    "  <li> Treinamos e testamos na mesma base </li>\n",
    "  <li> É esperado que as predições sobre essa base sejam boas, mas e quanto a novos dados? </li>\n",
    "    <ul>\n",
    "      <li> sim novos dados</li>\n",
    "    </ul>\n",
    "  <li> Um solução seria repartir dados, reservando uma parte para <b>teste</b> e <b>treinando</b> o modelo no restante </li>\n",
    "  <li> isso se chama validação cruzada </li>  \n",
    "</ul>\n",
    "</div>\n",
    "\n",
    "***"
   ]
  },
  {
   "cell_type": "code",
   "execution_count": 54,
   "metadata": {},
   "outputs": [],
   "source": [
    "from sklearn.model_selection import train_test_split"
   ]
  },
  {
   "cell_type": "code",
   "execution_count": 55,
   "metadata": {},
   "outputs": [],
   "source": [
    "# Repartindo o dados em treinamento e validação\n",
    "X_train, X_valid, y_train, y_valid = train_test_split(X, y, \n",
    "                                                      random_state = 999, test_size = 0.25)"
   ]
  },
  {
   "cell_type": "code",
   "execution_count": 46,
   "metadata": {},
   "outputs": [
    {
     "name": "stdout",
     "output_type": "stream",
     "text": [
      "(379, 13) (127, 13) (379,) (127,)\n"
     ]
    }
   ],
   "source": [
    "# quais são os shapes de cada parte\n",
    "print(X_train.shape, X_valid.shape, y_train.shape, y_valid.shape)"
   ]
  },
  {
   "cell_type": "code",
   "execution_count": 56,
   "metadata": {},
   "outputs": [
    {
     "data": {
      "text/plain": [
       "set()"
      ]
     },
     "execution_count": 56,
     "metadata": {},
     "output_type": "execute_result"
    }
   ],
   "source": [
    "set(X_train.index) & set(X_valid.index)"
   ]
  },
  {
   "cell_type": "markdown",
   "metadata": {},
   "source": [
    "#### Predição de preços"
   ]
  },
  {
   "cell_type": "code",
   "execution_count": 57,
   "metadata": {},
   "outputs": [
    {
     "data": {
      "text/plain": [
       "LinearRegression(copy_X=True, fit_intercept=True, n_jobs=None, normalize=False)"
      ]
     },
     "execution_count": 57,
     "metadata": {},
     "output_type": "execute_result"
    }
   ],
   "source": [
    "# recriando o objeto \n",
    "lreg = LinearRegression()\n",
    "\n",
    "# treinando de novo, mas somente com os dados de treinamento\n",
    "lreg.fit(X_train,y_train)"
   ]
  },
  {
   "cell_type": "code",
   "execution_count": 58,
   "metadata": {},
   "outputs": [],
   "source": [
    "# Predição das observações de validação\n",
    "pred_train = lreg.predict(X_train)\n",
    "pred_valid = lreg.predict(X_valid)"
   ]
  },
  {
   "cell_type": "code",
   "execution_count": 59,
   "metadata": {},
   "outputs": [
    {
     "name": "stdout",
     "output_type": "stream",
     "text": [
      "Treinei com X_train: RMSE com y_train: 4.70\n",
      "Treinei com X_train, RMSE sobre X_valid e y_valid: 4.78\n"
     ]
    }
   ],
   "source": [
    "print(\"Treinei com X_train: RMSE com y_train: %.2f\"  \n",
    "      % np.sqrt(np.mean((y_train - pred_train) ** 2)))\n",
    "    \n",
    "print(\"Treinei com X_train, RMSE sobre X_valid e y_valid: %.2f\"  \n",
    "      % np.sqrt( np.mean((y_valid - pred_valid) ** 2)) )"
   ]
  },
  {
   "cell_type": "code",
   "execution_count": 56,
   "metadata": {},
   "outputs": [
    {
     "data": {
      "text/plain": [
       "0.6685328531438204"
      ]
     },
     "execution_count": 56,
     "metadata": {},
     "output_type": "execute_result"
    }
   ],
   "source": [
    "# R^2 desse fit\n",
    "lreg.score(X_valid, y_valid)"
   ]
  },
  {
   "cell_type": "code",
   "execution_count": null,
   "metadata": {},
   "outputs": [],
   "source": []
  },
  {
   "cell_type": "code",
   "execution_count": null,
   "metadata": {},
   "outputs": [],
   "source": []
  },
  {
   "cell_type": "code",
   "execution_count": null,
   "metadata": {},
   "outputs": [],
   "source": []
  },
  {
   "cell_type": "markdown",
   "metadata": {},
   "source": [
    "### Referencias"
   ]
  },
  {
   "cell_type": "markdown",
   "metadata": {},
   "source": [
    "* Link para os modulos de machine learning: [SciKit Learn](http://scikit-learn.org/stable/)\n",
    "* Curso Machine Learning Andrew Ng: [Coursera](https://www.coursera.org/learn/machine-learning)\n",
    "* Curso Data Analysis Jose Portilla: [Udemy](https://www.udemy.com/learning-python-for-data-analysis-and-visualization/learn/v4/t/lecture/2338236?start=0)\n",
    "* Curso CS109 Harvard: [Harvard](http://cs109.github.io/2015)"
   ]
  }
 ],
 "metadata": {
  "kernelspec": {
   "display_name": "Python 3",
   "language": "python",
   "name": "python3"
  },
  "language_info": {
   "codemirror_mode": {
    "name": "ipython",
    "version": 3
   },
   "file_extension": ".py",
   "mimetype": "text/x-python",
   "name": "python",
   "nbconvert_exporter": "python",
   "pygments_lexer": "ipython3",
   "version": "3.7.6"
  },
  "toc": {
   "colors": {
    "hover_highlight": "#DAA520",
    "navigate_num": "#000000",
    "navigate_text": "#333333",
    "running_highlight": "#FF0000",
    "selected_highlight": "#FFD700",
    "sidebar_border": "#EEEEEE",
    "wrapper_background": "#FFFFFF"
   },
   "moveMenuLeft": true,
   "nav_menu": {
    "height": "258px",
    "width": "253px"
   },
   "navigate_menu": true,
   "number_sections": false,
   "sideBar": true,
   "threshold": 4,
   "toc_cell": false,
   "toc_section_display": "block",
   "toc_window_display": false,
   "widenNotebook": false
  }
 },
 "nbformat": 4,
 "nbformat_minor": 4
}
